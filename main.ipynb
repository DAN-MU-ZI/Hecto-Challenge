{
 "cells": [
  {
   "cell_type": "code",
   "execution_count": 1,
   "id": "2f2a127e-2906-4554-aba5-20f4b6b35686",
   "metadata": {},
   "outputs": [],
   "source": [
    "import os\n",
    "import gc\n",
    "import random\n",
    "import warnings\n",
    "import pandas as pd\n",
    "import numpy as np\n",
    "import torch\n",
    "import torch.nn as nn\n",
    "import torch.nn.functional as F\n",
    "from torch.utils.data import DataLoader\n",
    "from torch.amp import GradScaler, autocast\n",
    "from torch.optim.swa_utils import AveragedModel, SWALR, update_bn\n",
    "from sklearn.model_selection import StratifiedKFold\n",
    "from datetime import datetime\n",
    "import mlflow\n",
    "from tqdm import tqdm\n",
    "import timm\n",
    "from sklearn.metrics import log_loss\n",
    "import albumentations as A\n",
    "\n",
    "# Import your existing modules\n",
    "from config import load_config\n",
    "from models.model import BaseModel\n",
    "from datasets.custom_dataset import CustomImageDataset\n",
    "from transforms.aug import get_transforms, get_tta_transforms, TTAWrapper\n",
    "from train_utils.trainer import train_one_epoch, validate_one_epoch\n",
    "from train_utils.mlflow_cb import MLflowCallback\n",
    "from train_utils.option import get_optimizer, get_scheduler, get_criterion\n",
    "from utils.common import seed_everything, get_device"
   ]
  },
  {
   "cell_type": "code",
   "execution_count": 2,
   "id": "44d10d7b-5b83-4e64-8f69-9c4c28971ed9",
   "metadata": {},
   "outputs": [],
   "source": [
    "warnings.filterwarnings('ignore')"
   ]
  },
  {
   "cell_type": "code",
   "execution_count": 3,
   "id": "8835c193-9897-4133-a641-0873cf6123fe",
   "metadata": {},
   "outputs": [],
   "source": [
    "class FocalLoss(nn.Module):\n",
    "    def __init__(self, alpha=1, gamma=2, reduction='mean'):\n",
    "        super(FocalLoss, self).__init__()\n",
    "        self.alpha = alpha\n",
    "        self.gamma = gamma\n",
    "        self.reduction = reduction\n",
    "\n",
    "    def forward(self, inputs, targets):\n",
    "        ce_loss = F.cross_entropy(inputs, targets, reduction='none')\n",
    "        pt = torch.exp(-ce_loss)\n",
    "        focal_loss = self.alpha * (1 - pt) ** self.gamma * ce_loss\n",
    "\n",
    "        if self.reduction == 'mean':\n",
    "            return focal_loss.mean()\n",
    "        elif self.reduction == 'sum':\n",
    "            return focal_loss.sum()\n",
    "        else:\n",
    "            return focal_loss\n",
    "\n",
    "class CombinedLoss(nn.Module):\n",
    "    def __init__(self, loss_fn1, loss_fn2, weight1=1.0, weight2=1.0, reduction='mean'):\n",
    "        super(CombinedLoss, self).__init__()\n",
    "        self.loss_fn1 = loss_fn1\n",
    "        self.loss_fn2 = loss_fn2\n",
    "        self.weight1 = weight1\n",
    "        self.weight2 = weight2\n",
    "        self.reduction = reduction\n",
    "\n",
    "    def forward(self, inputs, targets):\n",
    "        loss1 = self.loss_fn1(inputs, targets)\n",
    "        loss2 = self.loss_fn2(inputs, targets)\n",
    "        combined = self.weight1 * loss1 + self.weight2 * loss2\n",
    "\n",
    "        if self.reduction == 'mean':\n",
    "            return combined.mean() if combined.dim() > 0 else combined\n",
    "        elif self.reduction == 'sum':\n",
    "            return combined.sum()\n",
    "        else:\n",
    "            return combined\n"
   ]
  },
  {
   "cell_type": "code",
   "execution_count": 4,
   "id": "2c6fd043-c2f1-4e36-9cad-1778b8ada53c",
   "metadata": {},
   "outputs": [],
   "source": [
    "def train_fold(fold_idx, train_data, val_data, hp, exp, device, num_classes, run_name):\n",
    "    print(f\"\\n{'='*50}\")\n",
    "    print(f\"Training Fold {fold_idx + 1}\")\n",
    "    print(f\"\\n{'='*50}\")\n",
    "\n",
    "    best_val_loss = float('inf')\n",
    "\n",
    "    model = BaseModel(\n",
    "        exp['model_name'],\n",
    "        num_classes,\n",
    "        exp['embedding_dim'],\n",
    "    )\n",
    "\n",
    "    model = model.to(device)\n",
    "\n",
    "    optimizer = get_optimizer(model, hp)\n",
    "    scheduler = get_scheduler(optimizer, hp)\n",
    "    swa_start   = hp.get('swa_start', hp['epochs'] - 5)\n",
    "    swa_lr      = hp.get('swa_lr', 1e-4)\n",
    "    swa_model   = AveragedModel(model) \n",
    "    swa_scheduler = SWALR(optimizer, swa_lr=swa_lr)\n",
    "    \n",
    "    # criterion = FocalLoss()\n",
    "    # criterion = get_criterion(hp)\n",
    "\n",
    "    focal_loss_fn = FocalLoss()\n",
    "    cross_entropy_fn = nn.CrossEntropyLoss()\n",
    "    criterion = CombinedLoss(\n",
    "        loss_fn1=focal_loss_fn,\n",
    "        loss_fn2=cross_entropy_fn,\n",
    "        # weight1=0.5,  # focal loss 비중\n",
    "        # weight2=0.5,  # cross entropy 비중\n",
    "        # reduction='mean'\n",
    "    )\n",
    "    \n",
    "    scaler = GradScaler()\n",
    "\n",
    "    train_loader = DataLoader(\n",
    "        CustomImageDataset(train_data, transform=get_transforms(hp['img_size'])),\n",
    "        batch_size=hp['batch_size'], shuffle=True, num_workers=hp['cpu_count'], pin_memory=True\n",
    "    )\n",
    "    val_loader = DataLoader(\n",
    "        CustomImageDataset(val_data, transform=get_transforms(hp['img_size'])),\n",
    "        batch_size=hp['batch_size'], shuffle=False, num_workers=hp['cpu_count'], pin_memory=True\n",
    "    )\n",
    "\n",
    "    for epoch in range(1, hp['epochs'] + 1):\n",
    "        train_logloss, train_acc, _, _ = train_one_epoch(\n",
    "            model, train_loader, criterion,\n",
    "            optimizer, scaler, device,\n",
    "            use_mixup=False, use_cutmix=hp.get('use_cutmix', False)\n",
    "        )\n",
    "\n",
    "        scheduler.step()\n",
    "        if epoch < swa_start:\n",
    "            scheduler.step()\n",
    "        else:\n",
    "            swa_model.update_parameters(model)\n",
    "            swa_scheduler.step()\n",
    "\n",
    "        val_logloss, val_acc, val_probs_np, val_labels_np = validate_one_epoch(\n",
    "            model, val_loader, criterion, device\n",
    "        )\n",
    "\n",
    "        mlflow.log_metric(\"train_logloss\", train_logloss, step=epoch)\n",
    "        mlflow.log_metric(\"train_accuracy\", train_acc, step=epoch)\n",
    "        mlflow.log_metric(\"val_logloss\", val_logloss, step=epoch)\n",
    "        mlflow.log_metric(\"val_accuracy\", val_acc, step=epoch)\n",
    "\n",
    "        print(f\"Epoch {epoch} ▶ Train LL: {train_logloss:.4f} / Val LL: {val_logloss:.4f} | Train Acc: {train_acc:.4f} / Val Acc: {val_acc:.4f}\")\n",
    "\n",
    "        if val_logloss < best_val_loss:\n",
    "            best_val_loss = val_logloss\n",
    "            torch.save(model.state_dict(), f\"best_model_fold_{fold_idx}.pth\")\n",
    "\n",
    "    best_model = BaseModel(exp['model_name'], num_classes, exp['embedding_dim']).to(device)\n",
    "    best_model.load_state_dict(torch.load(f\"best_model_fold_{fold_idx}.pth\"))\n",
    "    update_bn(train_loader, swa_model, device=device)\n",
    "    torch.save(swa_model.state_dict(), f\"swa_model_fold_{fold_idx}.pth\")\n",
    "    best_model = swa_model\n",
    "    \n",
    "    return best_model, best_val_loss"
   ]
  },
  {
   "cell_type": "code",
   "execution_count": 5,
   "id": "44577e15-c82b-45cf-b318-8573a5549f6a",
   "metadata": {},
   "outputs": [
    {
     "name": "stdout",
     "output_type": "stream",
     "text": [
      "MLflow experiment [hecto_image_classification] run [20250614_190004] started.\n"
     ]
    }
   ],
   "source": [
    "# 설정 로드\n",
    "config_path = \"config.yaml\"\n",
    "hp, exp, mf = load_config(config_path)\n",
    "\n",
    "# 환경 설정\n",
    "seed_everything(exp['seed'])\n",
    "device = get_device()\n",
    "\n",
    "# MLflow 설정\n",
    "mlflow.set_tracking_uri(mf['mlflow_tracking_uri'])\n",
    "mlflow.set_experiment(exp['name'])\n",
    "run_name = datetime.now().strftime(\"%Y%m%d_%H%M%S\")\n",
    "mlflow.start_run(run_name=run_name)\n",
    "print(f\"MLflow experiment [{exp['name']}] run [{run_name}] started.\")"
   ]
  },
  {
   "cell_type": "code",
   "execution_count": 6,
   "id": "299bbe06-7427-4d86-bf81-8204f491fe07",
   "metadata": {},
   "outputs": [],
   "source": [
    "mlflow.log_params(hp)\n",
    "mlflow.log_params(exp)\n",
    "mlflow.log_params({\n",
    "    'torch_version': torch.__version__,\n",
    "    'timm_version': timm.__version__,\n",
    "    'cuda_available': torch.cuda.is_available(),\n",
    "    'cuda_device': torch.cuda.get_device_name(0) if torch.cuda.is_available() else \"cpu\"\n",
    "})"
   ]
  },
  {
   "cell_type": "code",
   "execution_count": 7,
   "id": "3dac5b17-cca1-4535-abf7-617eba038626",
   "metadata": {},
   "outputs": [
    {
     "name": "stdout",
     "output_type": "stream",
     "text": [
      "Loading train data...\n",
      "Total classes: 391, Total samples: 31426\n"
     ]
    }
   ],
   "source": [
    "print(\"Loading train data...\")\n",
    "# 데이터 로딩 및 전처리\n",
    "train_df = pd.read_csv('./dataset/train.csv', index_col=0, encoding='utf-8-sig').drop_duplicates(subset=['hash'], keep='first')\n",
    "\n",
    "# 클래스명 매핑\n",
    "class_alias_map = {\n",
    "    'K5_하이브리드_3세대_2020_2023': 'K5_3세대_하이브리드_2020_2022',\n",
    "    '디_올_뉴_니로_2022_2025': '디_올뉴니로_2022_2025',\n",
    "    '박스터_718_2017_2024': '718_박스터_2017_2024',\n",
    "    '라브4_4세대_2013_2018': 'RAV4_2016_2018',\n",
    "    '라브4_5세대_2019_2024': 'RAV4_5세대_2019_2024',\n",
    "}\n",
    "\n",
    "train_df['label'] = train_df['label'].apply(lambda x: class_alias_map.get(x, x))\n",
    "\n",
    "# 클래스 매핑\n",
    "classes = sorted(train_df['label'].unique())\n",
    "class_to_idx = {c: i for i, c in enumerate(classes)}\n",
    "train_df['label'] = train_df['label'].map(class_to_idx)\n",
    "num_classes = len(classes)\n",
    "\n",
    "mlflow.log_param(\"n_classes\", num_classes)\n",
    "print(f\"Total classes: {num_classes}, Total samples: {len(train_df)}\")"
   ]
  },
  {
   "cell_type": "code",
   "execution_count": 8,
   "id": "4a3dace1-5992-4081-810c-a32d404e5a77",
   "metadata": {
    "scrolled": true
   },
   "outputs": [
    {
     "name": "stdout",
     "output_type": "stream",
     "text": [
      "\n",
      "[FOLD 1] training started.\n",
      "\n",
      "==================================================\n",
      "Training Fold 1\n",
      "\n",
      "==================================================\n"
     ]
    },
    {
     "name": "stderr",
     "output_type": "stream",
     "text": [
      "Train: 100%|██████████| 786/786 [02:09<00:00,  6.05it/s]\n",
      "Valid: 100%|██████████| 197/197 [00:11<00:00, 17.32it/s]\n"
     ]
    },
    {
     "name": "stdout",
     "output_type": "stream",
     "text": [
      "Epoch 1 ▶ Train LL: 3.7932 / Val LL: 0.6626 | Train Acc: 0.3523 / Val Acc: 0.8910\n"
     ]
    },
    {
     "name": "stderr",
     "output_type": "stream",
     "text": [
      "Train: 100%|██████████| 786/786 [02:09<00:00,  6.09it/s]\n",
      "Valid: 100%|██████████| 197/197 [00:11<00:00, 17.27it/s]\n"
     ]
    },
    {
     "name": "stdout",
     "output_type": "stream",
     "text": [
      "Epoch 2 ▶ Train LL: 1.7975 / Val LL: 0.2703 | Train Acc: 0.6646 / Val Acc: 0.9370\n"
     ]
    },
    {
     "name": "stderr",
     "output_type": "stream",
     "text": [
      "Train: 100%|██████████| 786/786 [02:09<00:00,  6.09it/s]\n",
      "Valid: 100%|██████████| 197/197 [00:11<00:00, 17.22it/s]\n"
     ]
    },
    {
     "name": "stdout",
     "output_type": "stream",
     "text": [
      "Epoch 3 ▶ Train LL: 1.3760 / Val LL: 0.1806 | Train Acc: 0.6996 / Val Acc: 0.9493\n"
     ]
    },
    {
     "name": "stderr",
     "output_type": "stream",
     "text": [
      "Train: 100%|██████████| 786/786 [02:09<00:00,  6.09it/s]\n",
      "Valid: 100%|██████████| 197/197 [00:11<00:00, 17.31it/s]\n"
     ]
    },
    {
     "name": "stdout",
     "output_type": "stream",
     "text": [
      "Epoch 4 ▶ Train LL: 1.1771 / Val LL: 0.1344 | Train Acc: 0.7036 / Val Acc: 0.9577\n"
     ]
    },
    {
     "name": "stderr",
     "output_type": "stream",
     "text": [
      "Train: 100%|██████████| 786/786 [02:09<00:00,  6.08it/s]\n",
      "Valid: 100%|██████████| 197/197 [00:11<00:00, 17.19it/s]\n"
     ]
    },
    {
     "name": "stdout",
     "output_type": "stream",
     "text": [
      "Epoch 5 ▶ Train LL: 1.1014 / Val LL: 0.1238 | Train Acc: 0.7047 / Val Acc: 0.9591\n"
     ]
    },
    {
     "name": "stderr",
     "output_type": "stream",
     "text": [
      "Train: 100%|██████████| 786/786 [02:09<00:00,  6.07it/s]\n",
      "Valid: 100%|██████████| 197/197 [00:11<00:00, 17.28it/s]\n"
     ]
    },
    {
     "name": "stdout",
     "output_type": "stream",
     "text": [
      "Epoch 6 ▶ Train LL: 0.9699 / Val LL: 0.1039 | Train Acc: 0.7152 / Val Acc: 0.9636\n"
     ]
    },
    {
     "name": "stderr",
     "output_type": "stream",
     "text": [
      "Train: 100%|██████████| 786/786 [02:09<00:00,  6.06it/s]\n",
      "Valid: 100%|██████████| 197/197 [00:11<00:00, 17.27it/s]\n"
     ]
    },
    {
     "name": "stdout",
     "output_type": "stream",
     "text": [
      "Epoch 7 ▶ Train LL: 0.9579 / Val LL: 0.0886 | Train Acc: 0.7093 / Val Acc: 0.9660\n"
     ]
    },
    {
     "name": "stderr",
     "output_type": "stream",
     "text": [
      "Train: 100%|██████████| 786/786 [02:09<00:00,  6.05it/s]\n",
      "Valid: 100%|██████████| 197/197 [00:11<00:00, 16.72it/s]\n"
     ]
    },
    {
     "name": "stdout",
     "output_type": "stream",
     "text": [
      "Epoch 8 ▶ Train LL: 0.8911 / Val LL: 0.0851 | Train Acc: 0.7160 / Val Acc: 0.9682\n"
     ]
    },
    {
     "name": "stderr",
     "output_type": "stream",
     "text": [
      "Train: 100%|██████████| 786/786 [02:09<00:00,  6.08it/s]\n",
      "Valid: 100%|██████████| 197/197 [00:11<00:00, 17.39it/s]\n"
     ]
    },
    {
     "name": "stdout",
     "output_type": "stream",
     "text": [
      "Epoch 9 ▶ Train LL: 0.8818 / Val LL: 0.0805 | Train Acc: 0.7157 / Val Acc: 0.9733\n"
     ]
    },
    {
     "name": "stderr",
     "output_type": "stream",
     "text": [
      "Train: 100%|██████████| 786/786 [02:09<00:00,  6.08it/s]\n",
      "Valid: 100%|██████████| 197/197 [00:11<00:00, 16.73it/s]\n"
     ]
    },
    {
     "name": "stdout",
     "output_type": "stream",
     "text": [
      "Epoch 10 ▶ Train LL: 0.8454 / Val LL: 0.0752 | Train Acc: 0.7224 / Val Acc: 0.9723\n"
     ]
    },
    {
     "name": "stderr",
     "output_type": "stream",
     "text": [
      "Train: 100%|██████████| 786/786 [02:10<00:00,  6.04it/s]\n",
      "Valid: 100%|██████████| 197/197 [00:11<00:00, 17.01it/s]\n"
     ]
    },
    {
     "name": "stdout",
     "output_type": "stream",
     "text": [
      "Epoch 11 ▶ Train LL: 0.8168 / Val LL: 0.0694 | Train Acc: 0.7282 / Val Acc: 0.9741\n"
     ]
    },
    {
     "name": "stderr",
     "output_type": "stream",
     "text": [
      "Train: 100%|██████████| 786/786 [02:09<00:00,  6.05it/s]\n",
      "Valid: 100%|██████████| 197/197 [00:11<00:00, 16.88it/s]\n"
     ]
    },
    {
     "name": "stdout",
     "output_type": "stream",
     "text": [
      "Epoch 12 ▶ Train LL: 0.7366 / Val LL: 0.0691 | Train Acc: 0.7473 / Val Acc: 0.9739\n"
     ]
    },
    {
     "name": "stderr",
     "output_type": "stream",
     "text": [
      "Train: 100%|██████████| 786/786 [02:10<00:00,  6.03it/s]\n",
      "Valid: 100%|██████████| 197/197 [00:11<00:00, 16.94it/s]\n"
     ]
    },
    {
     "name": "stdout",
     "output_type": "stream",
     "text": [
      "Epoch 13 ▶ Train LL: 0.7900 / Val LL: 0.0667 | Train Acc: 0.7321 / Val Acc: 0.9749\n"
     ]
    },
    {
     "name": "stderr",
     "output_type": "stream",
     "text": [
      "Train: 100%|██████████| 786/786 [02:09<00:00,  6.05it/s]\n",
      "Valid: 100%|██████████| 197/197 [00:11<00:00, 16.96it/s]\n"
     ]
    },
    {
     "name": "stdout",
     "output_type": "stream",
     "text": [
      "Epoch 14 ▶ Train LL: 0.7663 / Val LL: 0.0649 | Train Acc: 0.7261 / Val Acc: 0.9761\n"
     ]
    },
    {
     "name": "stderr",
     "output_type": "stream",
     "text": [
      "Train: 100%|██████████| 786/786 [02:10<00:00,  6.02it/s]\n",
      "Valid: 100%|██████████| 197/197 [00:12<00:00, 15.93it/s]\n"
     ]
    },
    {
     "name": "stdout",
     "output_type": "stream",
     "text": [
      "Epoch 15 ▶ Train LL: 0.7604 / Val LL: 0.0641 | Train Acc: 0.7235 / Val Acc: 0.9765\n"
     ]
    },
    {
     "name": "stderr",
     "output_type": "stream",
     "text": [
      "Train: 100%|██████████| 786/786 [02:10<00:00,  6.04it/s]\n",
      "Valid: 100%|██████████| 197/197 [00:11<00:00, 16.88it/s]\n"
     ]
    },
    {
     "name": "stdout",
     "output_type": "stream",
     "text": [
      "Epoch 16 ▶ Train LL: 0.7907 / Val LL: 0.0652 | Train Acc: 0.7245 / Val Acc: 0.9765\n"
     ]
    },
    {
     "name": "stderr",
     "output_type": "stream",
     "text": [
      "Train: 100%|██████████| 786/786 [02:10<00:00,  6.04it/s]\n",
      "Valid: 100%|██████████| 197/197 [00:11<00:00, 16.73it/s]\n"
     ]
    },
    {
     "name": "stdout",
     "output_type": "stream",
     "text": [
      "Epoch 17 ▶ Train LL: 0.7674 / Val LL: 0.0644 | Train Acc: 0.7305 / Val Acc: 0.9771\n"
     ]
    },
    {
     "name": "stderr",
     "output_type": "stream",
     "text": [
      "Train: 100%|██████████| 786/786 [02:09<00:00,  6.05it/s]\n",
      "Valid: 100%|██████████| 197/197 [00:11<00:00, 16.74it/s]\n"
     ]
    },
    {
     "name": "stdout",
     "output_type": "stream",
     "text": [
      "Epoch 18 ▶ Train LL: 0.7358 / Val LL: 0.0651 | Train Acc: 0.7363 / Val Acc: 0.9755\n"
     ]
    },
    {
     "name": "stderr",
     "output_type": "stream",
     "text": [
      "Train: 100%|██████████| 786/786 [02:09<00:00,  6.06it/s]\n",
      "Valid: 100%|██████████| 197/197 [00:11<00:00, 17.26it/s]\n"
     ]
    },
    {
     "name": "stdout",
     "output_type": "stream",
     "text": [
      "Epoch 19 ▶ Train LL: 0.7241 / Val LL: 0.0646 | Train Acc: 0.7418 / Val Acc: 0.9758\n"
     ]
    },
    {
     "name": "stderr",
     "output_type": "stream",
     "text": [
      "Train: 100%|██████████| 786/786 [02:09<00:00,  6.09it/s]\n",
      "Valid: 100%|██████████| 197/197 [00:11<00:00, 17.24it/s]\n"
     ]
    },
    {
     "name": "stdout",
     "output_type": "stream",
     "text": [
      "Epoch 20 ▶ Train LL: 0.7956 / Val LL: 0.0644 | Train Acc: 0.7172 / Val Acc: 0.9760\n"
     ]
    },
    {
     "name": "stderr",
     "output_type": "stream",
     "text": [
      "Train: 100%|██████████| 786/786 [02:09<00:00,  6.08it/s]\n",
      "Valid: 100%|██████████| 197/197 [00:11<00:00, 17.39it/s]\n"
     ]
    },
    {
     "name": "stdout",
     "output_type": "stream",
     "text": [
      "Epoch 21 ▶ Train LL: 0.7853 / Val LL: 0.0658 | Train Acc: 0.7132 / Val Acc: 0.9761\n"
     ]
    },
    {
     "name": "stderr",
     "output_type": "stream",
     "text": [
      "Train: 100%|██████████| 786/786 [02:08<00:00,  6.10it/s]\n",
      "Valid: 100%|██████████| 197/197 [00:11<00:00, 16.92it/s]\n"
     ]
    },
    {
     "name": "stdout",
     "output_type": "stream",
     "text": [
      "Epoch 22 ▶ Train LL: 0.7205 / Val LL: 0.0689 | Train Acc: 0.7424 / Val Acc: 0.9730\n"
     ]
    },
    {
     "name": "stderr",
     "output_type": "stream",
     "text": [
      "Train: 100%|██████████| 786/786 [02:09<00:00,  6.09it/s]\n",
      "Valid: 100%|██████████| 197/197 [00:11<00:00, 17.23it/s]\n"
     ]
    },
    {
     "name": "stdout",
     "output_type": "stream",
     "text": [
      "Epoch 23 ▶ Train LL: 0.7474 / Val LL: 0.0711 | Train Acc: 0.7239 / Val Acc: 0.9744\n"
     ]
    },
    {
     "name": "stderr",
     "output_type": "stream",
     "text": [
      "Train: 100%|██████████| 786/786 [02:09<00:00,  6.09it/s]\n",
      "Valid: 100%|██████████| 197/197 [00:11<00:00, 17.35it/s]\n"
     ]
    },
    {
     "name": "stdout",
     "output_type": "stream",
     "text": [
      "Epoch 24 ▶ Train LL: 0.7932 / Val LL: 0.0725 | Train Acc: 0.7222 / Val Acc: 0.9738\n"
     ]
    },
    {
     "name": "stderr",
     "output_type": "stream",
     "text": [
      "Train: 100%|██████████| 786/786 [02:09<00:00,  6.09it/s]\n",
      "Valid: 100%|██████████| 197/197 [00:11<00:00, 17.50it/s]\n"
     ]
    },
    {
     "name": "stdout",
     "output_type": "stream",
     "text": [
      "Epoch 25 ▶ Train LL: 0.7960 / Val LL: 0.0803 | Train Acc: 0.7289 / Val Acc: 0.9723\n"
     ]
    },
    {
     "name": "stderr",
     "output_type": "stream",
     "text": [
      "Train: 100%|██████████| 786/786 [02:09<00:00,  6.07it/s]\n",
      "Valid: 100%|██████████| 197/197 [00:11<00:00, 16.87it/s]\n"
     ]
    },
    {
     "name": "stdout",
     "output_type": "stream",
     "text": [
      "Epoch 26 ▶ Train LL: 0.8076 / Val LL: 0.0822 | Train Acc: 0.7218 / Val Acc: 0.9722\n"
     ]
    },
    {
     "name": "stderr",
     "output_type": "stream",
     "text": [
      "Train: 100%|██████████| 786/786 [02:09<00:00,  6.08it/s]\n",
      "Valid: 100%|██████████| 197/197 [00:11<00:00, 17.25it/s]\n"
     ]
    },
    {
     "name": "stdout",
     "output_type": "stream",
     "text": [
      "Epoch 27 ▶ Train LL: 0.8215 / Val LL: 0.0936 | Train Acc: 0.7134 / Val Acc: 0.9704\n"
     ]
    },
    {
     "name": "stderr",
     "output_type": "stream",
     "text": [
      "Train: 100%|██████████| 786/786 [02:09<00:00,  6.08it/s]\n",
      "Valid: 100%|██████████| 197/197 [00:11<00:00, 17.21it/s]\n"
     ]
    },
    {
     "name": "stdout",
     "output_type": "stream",
     "text": [
      "Epoch 28 ▶ Train LL: 0.8168 / Val LL: 0.0856 | Train Acc: 0.7214 / Val Acc: 0.9726\n"
     ]
    },
    {
     "name": "stderr",
     "output_type": "stream",
     "text": [
      "Train: 100%|██████████| 786/786 [02:09<00:00,  6.07it/s]\n",
      "Valid: 100%|██████████| 197/197 [00:11<00:00, 16.81it/s]\n"
     ]
    },
    {
     "name": "stdout",
     "output_type": "stream",
     "text": [
      "Epoch 29 ▶ Train LL: 0.7738 / Val LL: 0.0830 | Train Acc: 0.7272 / Val Acc: 0.9738\n"
     ]
    },
    {
     "name": "stderr",
     "output_type": "stream",
     "text": [
      "Train: 100%|██████████| 786/786 [02:09<00:00,  6.05it/s]\n",
      "Valid: 100%|██████████| 197/197 [00:11<00:00, 16.77it/s]\n"
     ]
    },
    {
     "name": "stdout",
     "output_type": "stream",
     "text": [
      "Epoch 30 ▶ Train LL: 0.7892 / Val LL: 0.0745 | Train Acc: 0.7136 / Val Acc: 0.9755\n",
      "[FOLD 1] validation logloss: 0.06414\n",
      "🏃 View run fold1 at: https://6m9uma7tvgsttm-5000.proxy.runpod.net/#/experiments/2/runs/a081386a96614510a71c3b15b92bc955\n",
      "🧪 View experiment at: https://6m9uma7tvgsttm-5000.proxy.runpod.net/#/experiments/2\n",
      "\n",
      "[FOLD 2] training started.\n",
      "\n",
      "==================================================\n",
      "Training Fold 2\n",
      "\n",
      "==================================================\n"
     ]
    },
    {
     "name": "stderr",
     "output_type": "stream",
     "text": [
      "Train: 100%|██████████| 786/786 [02:10<00:00,  6.03it/s]\n",
      "Valid: 100%|██████████| 197/197 [00:11<00:00, 16.60it/s]\n"
     ]
    },
    {
     "name": "stdout",
     "output_type": "stream",
     "text": [
      "Epoch 1 ▶ Train LL: 3.8055 / Val LL: 0.6699 | Train Acc: 0.3467 / Val Acc: 0.8905\n"
     ]
    },
    {
     "name": "stderr",
     "output_type": "stream",
     "text": [
      "Train: 100%|██████████| 786/786 [02:10<00:00,  6.00it/s]\n",
      "Valid: 100%|██████████| 197/197 [00:11<00:00, 16.95it/s]\n"
     ]
    },
    {
     "name": "stdout",
     "output_type": "stream",
     "text": [
      "Epoch 2 ▶ Train LL: 1.8083 / Val LL: 0.2456 | Train Acc: 0.6604 / Val Acc: 0.9399\n"
     ]
    },
    {
     "name": "stderr",
     "output_type": "stream",
     "text": [
      "Train: 100%|██████████| 786/786 [02:11<00:00,  5.99it/s]\n",
      "Valid: 100%|██████████| 197/197 [00:11<00:00, 16.66it/s]\n"
     ]
    },
    {
     "name": "stdout",
     "output_type": "stream",
     "text": [
      "Epoch 3 ▶ Train LL: 1.3689 / Val LL: 0.1905 | Train Acc: 0.7012 / Val Acc: 0.9518\n"
     ]
    },
    {
     "name": "stderr",
     "output_type": "stream",
     "text": [
      "Train: 100%|██████████| 786/786 [02:11<00:00,  5.99it/s]\n",
      "Valid: 100%|██████████| 197/197 [00:11<00:00, 16.66it/s]\n"
     ]
    },
    {
     "name": "stdout",
     "output_type": "stream",
     "text": [
      "Epoch 4 ▶ Train LL: 1.2078 / Val LL: 0.1399 | Train Acc: 0.7026 / Val Acc: 0.9607\n"
     ]
    },
    {
     "name": "stderr",
     "output_type": "stream",
     "text": [
      "Train: 100%|██████████| 786/786 [02:10<00:00,  6.01it/s]\n",
      "Valid: 100%|██████████| 197/197 [00:12<00:00, 15.45it/s]\n"
     ]
    },
    {
     "name": "stdout",
     "output_type": "stream",
     "text": [
      "Epoch 5 ▶ Train LL: 1.0395 / Val LL: 0.1345 | Train Acc: 0.7185 / Val Acc: 0.9612\n"
     ]
    },
    {
     "name": "stderr",
     "output_type": "stream",
     "text": [
      "Train: 100%|██████████| 786/786 [02:10<00:00,  6.04it/s]\n",
      "Valid: 100%|██████████| 197/197 [00:11<00:00, 17.00it/s]\n"
     ]
    },
    {
     "name": "stdout",
     "output_type": "stream",
     "text": [
      "Epoch 6 ▶ Train LL: 0.9711 / Val LL: 0.1117 | Train Acc: 0.7255 / Val Acc: 0.9656\n"
     ]
    },
    {
     "name": "stderr",
     "output_type": "stream",
     "text": [
      "Train: 100%|██████████| 786/786 [02:10<00:00,  6.01it/s]\n",
      "Valid: 100%|██████████| 197/197 [00:11<00:00, 16.73it/s]\n"
     ]
    },
    {
     "name": "stdout",
     "output_type": "stream",
     "text": [
      "Epoch 7 ▶ Train LL: 0.8773 / Val LL: 0.0979 | Train Acc: 0.7345 / Val Acc: 0.9674\n"
     ]
    },
    {
     "name": "stderr",
     "output_type": "stream",
     "text": [
      "Train: 100%|██████████| 786/786 [02:10<00:00,  6.00it/s]\n",
      "Valid: 100%|██████████| 197/197 [00:11<00:00, 16.84it/s]\n"
     ]
    },
    {
     "name": "stdout",
     "output_type": "stream",
     "text": [
      "Epoch 8 ▶ Train LL: 0.8973 / Val LL: 0.0869 | Train Acc: 0.7206 / Val Acc: 0.9712\n"
     ]
    },
    {
     "name": "stderr",
     "output_type": "stream",
     "text": [
      "Train: 100%|██████████| 786/786 [02:10<00:00,  6.02it/s]\n",
      "Valid: 100%|██████████| 197/197 [00:11<00:00, 16.62it/s]\n"
     ]
    },
    {
     "name": "stdout",
     "output_type": "stream",
     "text": [
      "Epoch 9 ▶ Train LL: 0.9155 / Val LL: 0.0837 | Train Acc: 0.7074 / Val Acc: 0.9723\n"
     ]
    },
    {
     "name": "stderr",
     "output_type": "stream",
     "text": [
      "Train: 100%|██████████| 786/786 [02:11<00:00,  5.98it/s]\n",
      "Valid: 100%|██████████| 197/197 [00:11<00:00, 16.84it/s]\n"
     ]
    },
    {
     "name": "stdout",
     "output_type": "stream",
     "text": [
      "Epoch 10 ▶ Train LL: 0.8879 / Val LL: 0.0773 | Train Acc: 0.7092 / Val Acc: 0.9718\n"
     ]
    },
    {
     "name": "stderr",
     "output_type": "stream",
     "text": [
      "Train: 100%|██████████| 786/786 [02:10<00:00,  6.01it/s]\n",
      "Valid: 100%|██████████| 197/197 [00:11<00:00, 16.76it/s]\n"
     ]
    },
    {
     "name": "stdout",
     "output_type": "stream",
     "text": [
      "Epoch 11 ▶ Train LL: 0.7597 / Val LL: 0.0703 | Train Acc: 0.7396 / Val Acc: 0.9745\n"
     ]
    },
    {
     "name": "stderr",
     "output_type": "stream",
     "text": [
      "Train: 100%|██████████| 786/786 [02:11<00:00,  6.00it/s]\n",
      "Valid: 100%|██████████| 197/197 [00:11<00:00, 16.78it/s]\n"
     ]
    },
    {
     "name": "stdout",
     "output_type": "stream",
     "text": [
      "Epoch 12 ▶ Train LL: 0.7986 / Val LL: 0.0698 | Train Acc: 0.7267 / Val Acc: 0.9750\n"
     ]
    },
    {
     "name": "stderr",
     "output_type": "stream",
     "text": [
      "Train: 100%|██████████| 786/786 [02:10<00:00,  6.01it/s]\n",
      "Valid: 100%|██████████| 197/197 [00:11<00:00, 16.75it/s]\n"
     ]
    },
    {
     "name": "stdout",
     "output_type": "stream",
     "text": [
      "Epoch 13 ▶ Train LL: 0.7945 / Val LL: 0.0658 | Train Acc: 0.7168 / Val Acc: 0.9760\n"
     ]
    },
    {
     "name": "stderr",
     "output_type": "stream",
     "text": [
      "Train: 100%|██████████| 786/786 [02:11<00:00,  5.99it/s]\n",
      "Valid: 100%|██████████| 197/197 [00:11<00:00, 16.85it/s]\n"
     ]
    },
    {
     "name": "stdout",
     "output_type": "stream",
     "text": [
      "Epoch 14 ▶ Train LL: 0.7406 / Val LL: 0.0656 | Train Acc: 0.7439 / Val Acc: 0.9765\n"
     ]
    },
    {
     "name": "stderr",
     "output_type": "stream",
     "text": [
      "Train: 100%|██████████| 786/786 [02:11<00:00,  5.99it/s]\n",
      "Valid: 100%|██████████| 197/197 [00:11<00:00, 16.53it/s]\n"
     ]
    },
    {
     "name": "stdout",
     "output_type": "stream",
     "text": [
      "Epoch 15 ▶ Train LL: 0.7428 / Val LL: 0.0665 | Train Acc: 0.7365 / Val Acc: 0.9766\n"
     ]
    },
    {
     "name": "stderr",
     "output_type": "stream",
     "text": [
      "Train: 100%|██████████| 786/786 [02:10<00:00,  6.02it/s]\n",
      "Valid: 100%|██████████| 197/197 [00:14<00:00, 13.61it/s]\n"
     ]
    },
    {
     "name": "stdout",
     "output_type": "stream",
     "text": [
      "Epoch 16 ▶ Train LL: 0.7888 / Val LL: 0.0656 | Train Acc: 0.7210 / Val Acc: 0.9763\n"
     ]
    },
    {
     "name": "stderr",
     "output_type": "stream",
     "text": [
      "Train: 100%|██████████| 786/786 [02:10<00:00,  6.01it/s]\n",
      "Valid: 100%|██████████| 197/197 [00:11<00:00, 16.67it/s]\n"
     ]
    },
    {
     "name": "stdout",
     "output_type": "stream",
     "text": [
      "Epoch 17 ▶ Train LL: 0.7507 / Val LL: 0.0649 | Train Acc: 0.7309 / Val Acc: 0.9763\n"
     ]
    },
    {
     "name": "stderr",
     "output_type": "stream",
     "text": [
      "Train: 100%|██████████| 786/786 [02:10<00:00,  6.01it/s]\n",
      "Valid: 100%|██████████| 197/197 [00:11<00:00, 16.85it/s]\n"
     ]
    },
    {
     "name": "stdout",
     "output_type": "stream",
     "text": [
      "Epoch 18 ▶ Train LL: 0.7394 / Val LL: 0.0645 | Train Acc: 0.7403 / Val Acc: 0.9763\n"
     ]
    },
    {
     "name": "stderr",
     "output_type": "stream",
     "text": [
      "Train: 100%|██████████| 786/786 [02:10<00:00,  6.01it/s]\n",
      "Valid: 100%|██████████| 197/197 [00:12<00:00, 16.41it/s]\n"
     ]
    },
    {
     "name": "stdout",
     "output_type": "stream",
     "text": [
      "Epoch 19 ▶ Train LL: 0.7873 / Val LL: 0.0667 | Train Acc: 0.7263 / Val Acc: 0.9749\n"
     ]
    },
    {
     "name": "stderr",
     "output_type": "stream",
     "text": [
      "Train: 100%|██████████| 786/786 [02:10<00:00,  6.01it/s]\n",
      "Valid: 100%|██████████| 197/197 [00:11<00:00, 16.90it/s]\n"
     ]
    },
    {
     "name": "stdout",
     "output_type": "stream",
     "text": [
      "Epoch 20 ▶ Train LL: 0.7529 / Val LL: 0.0655 | Train Acc: 0.7303 / Val Acc: 0.9758\n"
     ]
    },
    {
     "name": "stderr",
     "output_type": "stream",
     "text": [
      "Train: 100%|██████████| 786/786 [02:10<00:00,  6.01it/s]\n",
      "Valid: 100%|██████████| 197/197 [00:11<00:00, 16.61it/s]\n"
     ]
    },
    {
     "name": "stdout",
     "output_type": "stream",
     "text": [
      "Epoch 21 ▶ Train LL: 0.7456 / Val LL: 0.0662 | Train Acc: 0.7365 / Val Acc: 0.9763\n"
     ]
    },
    {
     "name": "stderr",
     "output_type": "stream",
     "text": [
      "Train: 100%|██████████| 786/786 [02:10<00:00,  6.01it/s]\n",
      "Valid: 100%|██████████| 197/197 [00:11<00:00, 16.74it/s]\n"
     ]
    },
    {
     "name": "stdout",
     "output_type": "stream",
     "text": [
      "Epoch 22 ▶ Train LL: 0.7908 / Val LL: 0.0701 | Train Acc: 0.7238 / Val Acc: 0.9753\n"
     ]
    },
    {
     "name": "stderr",
     "output_type": "stream",
     "text": [
      "Train: 100%|██████████| 786/786 [02:09<00:00,  6.05it/s]\n",
      "Valid: 100%|██████████| 197/197 [00:12<00:00, 15.54it/s]\n"
     ]
    },
    {
     "name": "stdout",
     "output_type": "stream",
     "text": [
      "Epoch 23 ▶ Train LL: 0.8040 / Val LL: 0.0701 | Train Acc: 0.7258 / Val Acc: 0.9763\n"
     ]
    },
    {
     "name": "stderr",
     "output_type": "stream",
     "text": [
      "Train: 100%|██████████| 786/786 [02:11<00:00,  5.97it/s]\n",
      "Valid: 100%|██████████| 197/197 [00:11<00:00, 16.74it/s]\n"
     ]
    },
    {
     "name": "stdout",
     "output_type": "stream",
     "text": [
      "Epoch 24 ▶ Train LL: 0.8548 / Val LL: 0.0769 | Train Acc: 0.7144 / Val Acc: 0.9747\n"
     ]
    },
    {
     "name": "stderr",
     "output_type": "stream",
     "text": [
      "Train: 100%|██████████| 786/786 [02:10<00:00,  6.01it/s]\n",
      "Valid: 100%|██████████| 197/197 [00:11<00:00, 16.80it/s]\n"
     ]
    },
    {
     "name": "stdout",
     "output_type": "stream",
     "text": [
      "Epoch 25 ▶ Train LL: 0.8694 / Val LL: 0.0839 | Train Acc: 0.7070 / Val Acc: 0.9739\n"
     ]
    },
    {
     "name": "stderr",
     "output_type": "stream",
     "text": [
      "Train: 100%|██████████| 786/786 [02:11<00:00,  5.99it/s]\n",
      "Valid: 100%|██████████| 197/197 [00:11<00:00, 16.89it/s]\n"
     ]
    },
    {
     "name": "stdout",
     "output_type": "stream",
     "text": [
      "Epoch 26 ▶ Train LL: 0.8306 / Val LL: 0.0859 | Train Acc: 0.7211 / Val Acc: 0.9742\n"
     ]
    },
    {
     "name": "stderr",
     "output_type": "stream",
     "text": [
      "Train: 100%|██████████| 786/786 [02:10<00:00,  6.04it/s]\n",
      "Valid: 100%|██████████| 197/197 [00:11<00:00, 16.67it/s]\n"
     ]
    },
    {
     "name": "stdout",
     "output_type": "stream",
     "text": [
      "Epoch 27 ▶ Train LL: 0.8115 / Val LL: 0.0885 | Train Acc: 0.7250 / Val Acc: 0.9722\n"
     ]
    },
    {
     "name": "stderr",
     "output_type": "stream",
     "text": [
      "Train: 100%|██████████| 786/786 [02:11<00:00,  5.99it/s]\n",
      "Valid: 100%|██████████| 197/197 [00:11<00:00, 16.87it/s]\n"
     ]
    },
    {
     "name": "stdout",
     "output_type": "stream",
     "text": [
      "Epoch 28 ▶ Train LL: 0.8747 / Val LL: 0.0867 | Train Acc: 0.7089 / Val Acc: 0.9745\n"
     ]
    },
    {
     "name": "stderr",
     "output_type": "stream",
     "text": [
      "Train: 100%|██████████| 786/786 [02:10<00:00,  6.02it/s]\n",
      "Valid: 100%|██████████| 197/197 [00:11<00:00, 16.76it/s]\n"
     ]
    },
    {
     "name": "stdout",
     "output_type": "stream",
     "text": [
      "Epoch 29 ▶ Train LL: 0.7749 / Val LL: 0.0850 | Train Acc: 0.7315 / Val Acc: 0.9725\n"
     ]
    },
    {
     "name": "stderr",
     "output_type": "stream",
     "text": [
      "Train: 100%|██████████| 786/786 [02:11<00:00,  5.99it/s]\n",
      "Valid: 100%|██████████| 197/197 [00:13<00:00, 14.86it/s]\n"
     ]
    },
    {
     "name": "stdout",
     "output_type": "stream",
     "text": [
      "Epoch 30 ▶ Train LL: 0.7718 / Val LL: 0.0856 | Train Acc: 0.7343 / Val Acc: 0.9741\n",
      "[FOLD 2] validation logloss: 0.06449\n",
      "🏃 View run fold2 at: https://6m9uma7tvgsttm-5000.proxy.runpod.net/#/experiments/2/runs/d089a2634a3349ae87593e47ced10e77\n",
      "🧪 View experiment at: https://6m9uma7tvgsttm-5000.proxy.runpod.net/#/experiments/2\n",
      "\n",
      "[FOLD 3] training started.\n",
      "\n",
      "==================================================\n",
      "Training Fold 3\n",
      "\n",
      "==================================================\n"
     ]
    },
    {
     "name": "stderr",
     "output_type": "stream",
     "text": [
      "Train: 100%|██████████| 786/786 [02:11<00:00,  5.97it/s]\n",
      "Valid: 100%|██████████| 197/197 [00:11<00:00, 16.55it/s]\n"
     ]
    },
    {
     "name": "stdout",
     "output_type": "stream",
     "text": [
      "Epoch 1 ▶ Train LL: 3.7395 / Val LL: 0.6484 | Train Acc: 0.3616 / Val Acc: 0.8944\n"
     ]
    },
    {
     "name": "stderr",
     "output_type": "stream",
     "text": [
      "Train: 100%|██████████| 786/786 [02:11<00:00,  6.00it/s]\n",
      "Valid: 100%|██████████| 197/197 [00:12<00:00, 15.86it/s]\n"
     ]
    },
    {
     "name": "stdout",
     "output_type": "stream",
     "text": [
      "Epoch 2 ▶ Train LL: 1.7486 / Val LL: 0.2693 | Train Acc: 0.6757 / Val Acc: 0.9397\n"
     ]
    },
    {
     "name": "stderr",
     "output_type": "stream",
     "text": [
      "Train: 100%|██████████| 786/786 [02:10<00:00,  6.01it/s]\n",
      "Valid: 100%|██████████| 197/197 [00:11<00:00, 16.49it/s]\n"
     ]
    },
    {
     "name": "stdout",
     "output_type": "stream",
     "text": [
      "Epoch 3 ▶ Train LL: 1.3649 / Val LL: 0.1680 | Train Acc: 0.7048 / Val Acc: 0.9524\n"
     ]
    },
    {
     "name": "stderr",
     "output_type": "stream",
     "text": [
      "Train: 100%|██████████| 786/786 [02:11<00:00,  6.00it/s]\n",
      "Valid: 100%|██████████| 197/197 [00:12<00:00, 15.99it/s]\n"
     ]
    },
    {
     "name": "stdout",
     "output_type": "stream",
     "text": [
      "Epoch 4 ▶ Train LL: 1.2082 / Val LL: 0.1555 | Train Acc: 0.7042 / Val Acc: 0.9566\n"
     ]
    },
    {
     "name": "stderr",
     "output_type": "stream",
     "text": [
      "Train: 100%|██████████| 786/786 [02:10<00:00,  6.00it/s]\n",
      "Valid: 100%|██████████| 197/197 [00:11<00:00, 16.60it/s]\n"
     ]
    },
    {
     "name": "stdout",
     "output_type": "stream",
     "text": [
      "Epoch 5 ▶ Train LL: 1.1128 / Val LL: 0.1193 | Train Acc: 0.7053 / Val Acc: 0.9625\n"
     ]
    },
    {
     "name": "stderr",
     "output_type": "stream",
     "text": [
      "Train: 100%|██████████| 786/786 [02:10<00:00,  6.00it/s]\n",
      "Valid: 100%|██████████| 197/197 [00:11<00:00, 16.58it/s]\n"
     ]
    },
    {
     "name": "stdout",
     "output_type": "stream",
     "text": [
      "Epoch 6 ▶ Train LL: 1.0353 / Val LL: 0.1064 | Train Acc: 0.7131 / Val Acc: 0.9667\n"
     ]
    },
    {
     "name": "stderr",
     "output_type": "stream",
     "text": [
      "Train: 100%|██████████| 786/786 [02:10<00:00,  6.01it/s]\n",
      "Valid: 100%|██████████| 197/197 [00:14<00:00, 13.57it/s]\n"
     ]
    },
    {
     "name": "stdout",
     "output_type": "stream",
     "text": [
      "Epoch 7 ▶ Train LL: 0.9392 / Val LL: 0.1016 | Train Acc: 0.7259 / Val Acc: 0.9667\n"
     ]
    },
    {
     "name": "stderr",
     "output_type": "stream",
     "text": [
      "Train: 100%|██████████| 786/786 [02:11<00:00,  5.99it/s]\n",
      "Valid: 100%|██████████| 197/197 [00:11<00:00, 16.64it/s]\n"
     ]
    },
    {
     "name": "stdout",
     "output_type": "stream",
     "text": [
      "Epoch 8 ▶ Train LL: 0.8630 / Val LL: 0.0871 | Train Acc: 0.7294 / Val Acc: 0.9707\n"
     ]
    },
    {
     "name": "stderr",
     "output_type": "stream",
     "text": [
      "Train: 100%|██████████| 786/786 [02:11<00:00,  5.99it/s]\n",
      "Valid: 100%|██████████| 197/197 [00:11<00:00, 16.59it/s]\n"
     ]
    },
    {
     "name": "stdout",
     "output_type": "stream",
     "text": [
      "Epoch 9 ▶ Train LL: 0.8611 / Val LL: 0.0895 | Train Acc: 0.7205 / Val Acc: 0.9688\n"
     ]
    },
    {
     "name": "stderr",
     "output_type": "stream",
     "text": [
      "Train: 100%|██████████| 786/786 [02:11<00:00,  5.99it/s]\n",
      "Valid: 100%|██████████| 197/197 [00:11<00:00, 16.44it/s]\n"
     ]
    },
    {
     "name": "stdout",
     "output_type": "stream",
     "text": [
      "Epoch 10 ▶ Train LL: 0.8161 / Val LL: 0.0780 | Train Acc: 0.7271 / Val Acc: 0.9730\n"
     ]
    },
    {
     "name": "stderr",
     "output_type": "stream",
     "text": [
      "Train: 100%|██████████| 786/786 [02:10<00:00,  6.03it/s]\n",
      "Valid: 100%|██████████| 197/197 [00:11<00:00, 16.68it/s]\n"
     ]
    },
    {
     "name": "stdout",
     "output_type": "stream",
     "text": [
      "Epoch 11 ▶ Train LL: 0.8040 / Val LL: 0.0762 | Train Acc: 0.7261 / Val Acc: 0.9739\n"
     ]
    },
    {
     "name": "stderr",
     "output_type": "stream",
     "text": [
      "Train: 100%|██████████| 786/786 [02:11<00:00,  5.99it/s]\n",
      "Valid: 100%|██████████| 197/197 [00:11<00:00, 16.61it/s]\n"
     ]
    },
    {
     "name": "stdout",
     "output_type": "stream",
     "text": [
      "Epoch 12 ▶ Train LL: 0.7752 / Val LL: 0.0719 | Train Acc: 0.7353 / Val Acc: 0.9758\n"
     ]
    },
    {
     "name": "stderr",
     "output_type": "stream",
     "text": [
      "Train: 100%|██████████| 786/786 [02:10<00:00,  6.01it/s]\n",
      "Valid: 100%|██████████| 197/197 [00:11<00:00, 16.67it/s]\n"
     ]
    },
    {
     "name": "stdout",
     "output_type": "stream",
     "text": [
      "Epoch 13 ▶ Train LL: 0.7772 / Val LL: 0.0708 | Train Acc: 0.7265 / Val Acc: 0.9761\n"
     ]
    },
    {
     "name": "stderr",
     "output_type": "stream",
     "text": [
      "Train: 100%|██████████| 786/786 [02:10<00:00,  6.02it/s]\n",
      "Valid: 100%|██████████| 197/197 [00:11<00:00, 16.74it/s]\n"
     ]
    },
    {
     "name": "stdout",
     "output_type": "stream",
     "text": [
      "Epoch 14 ▶ Train LL: 0.7775 / Val LL: 0.0694 | Train Acc: 0.7263 / Val Acc: 0.9758\n"
     ]
    },
    {
     "name": "stderr",
     "output_type": "stream",
     "text": [
      "Train: 100%|██████████| 786/786 [02:11<00:00,  5.99it/s]\n",
      "Valid: 100%|██████████| 197/197 [00:11<00:00, 16.78it/s]\n"
     ]
    },
    {
     "name": "stdout",
     "output_type": "stream",
     "text": [
      "Epoch 15 ▶ Train LL: 0.7821 / Val LL: 0.0701 | Train Acc: 0.7222 / Val Acc: 0.9766\n"
     ]
    },
    {
     "name": "stderr",
     "output_type": "stream",
     "text": [
      "Train: 100%|██████████| 786/786 [02:10<00:00,  6.03it/s]\n",
      "Valid: 100%|██████████| 197/197 [00:12<00:00, 16.38it/s]\n"
     ]
    },
    {
     "name": "stdout",
     "output_type": "stream",
     "text": [
      "Epoch 16 ▶ Train LL: 0.7730 / Val LL: 0.0699 | Train Acc: 0.7186 / Val Acc: 0.9750\n"
     ]
    },
    {
     "name": "stderr",
     "output_type": "stream",
     "text": [
      "Train: 100%|██████████| 786/786 [02:10<00:00,  6.01it/s]\n",
      "Valid: 100%|██████████| 197/197 [00:13<00:00, 14.88it/s]\n"
     ]
    },
    {
     "name": "stdout",
     "output_type": "stream",
     "text": [
      "Epoch 17 ▶ Train LL: 0.7735 / Val LL: 0.0702 | Train Acc: 0.7259 / Val Acc: 0.9765\n"
     ]
    },
    {
     "name": "stderr",
     "output_type": "stream",
     "text": [
      "Train: 100%|██████████| 786/786 [02:10<00:00,  6.02it/s]\n",
      "Valid: 100%|██████████| 197/197 [00:11<00:00, 16.56it/s]\n"
     ]
    },
    {
     "name": "stdout",
     "output_type": "stream",
     "text": [
      "Epoch 18 ▶ Train LL: 0.7253 / Val LL: 0.0693 | Train Acc: 0.7373 / Val Acc: 0.9766\n"
     ]
    },
    {
     "name": "stderr",
     "output_type": "stream",
     "text": [
      "Train: 100%|██████████| 786/786 [02:10<00:00,  6.02it/s]\n",
      "Valid: 100%|██████████| 197/197 [00:11<00:00, 16.64it/s]\n"
     ]
    },
    {
     "name": "stdout",
     "output_type": "stream",
     "text": [
      "Epoch 19 ▶ Train LL: 0.7748 / Val LL: 0.0693 | Train Acc: 0.7254 / Val Acc: 0.9760\n"
     ]
    },
    {
     "name": "stderr",
     "output_type": "stream",
     "text": [
      "Train: 100%|██████████| 786/786 [02:11<00:00,  6.00it/s]\n",
      "Valid: 100%|██████████| 197/197 [00:11<00:00, 16.73it/s]\n"
     ]
    },
    {
     "name": "stdout",
     "output_type": "stream",
     "text": [
      "Epoch 20 ▶ Train LL: 0.7343 / Val LL: 0.0707 | Train Acc: 0.7326 / Val Acc: 0.9750\n"
     ]
    },
    {
     "name": "stderr",
     "output_type": "stream",
     "text": [
      "Train: 100%|██████████| 786/786 [02:10<00:00,  6.02it/s]\n",
      "Valid: 100%|██████████| 197/197 [00:11<00:00, 16.72it/s]\n"
     ]
    },
    {
     "name": "stdout",
     "output_type": "stream",
     "text": [
      "Epoch 21 ▶ Train LL: 0.8021 / Val LL: 0.0699 | Train Acc: 0.7217 / Val Acc: 0.9776\n"
     ]
    },
    {
     "name": "stderr",
     "output_type": "stream",
     "text": [
      "Train: 100%|██████████| 786/786 [02:10<00:00,  6.01it/s]\n",
      "Valid: 100%|██████████| 197/197 [00:12<00:00, 16.35it/s]\n"
     ]
    },
    {
     "name": "stdout",
     "output_type": "stream",
     "text": [
      "Epoch 22 ▶ Train LL: 0.8027 / Val LL: 0.0723 | Train Acc: 0.7164 / Val Acc: 0.9752\n"
     ]
    },
    {
     "name": "stderr",
     "output_type": "stream",
     "text": [
      "Train: 100%|██████████| 786/786 [02:10<00:00,  6.03it/s]\n",
      "Valid: 100%|██████████| 197/197 [00:11<00:00, 16.60it/s]\n"
     ]
    },
    {
     "name": "stdout",
     "output_type": "stream",
     "text": [
      "Epoch 23 ▶ Train LL: 0.7739 / Val LL: 0.0721 | Train Acc: 0.7240 / Val Acc: 0.9752\n"
     ]
    },
    {
     "name": "stderr",
     "output_type": "stream",
     "text": [
      "Train: 100%|██████████| 786/786 [02:10<00:00,  6.01it/s]\n",
      "Valid: 100%|██████████| 197/197 [00:11<00:00, 16.73it/s]\n"
     ]
    },
    {
     "name": "stdout",
     "output_type": "stream",
     "text": [
      "Epoch 24 ▶ Train LL: 0.8103 / Val LL: 0.0820 | Train Acc: 0.7210 / Val Acc: 0.9733\n"
     ]
    },
    {
     "name": "stderr",
     "output_type": "stream",
     "text": [
      "Train: 100%|██████████| 786/786 [02:10<00:00,  6.02it/s]\n",
      "Valid: 100%|██████████| 197/197 [00:11<00:00, 16.72it/s]\n"
     ]
    },
    {
     "name": "stdout",
     "output_type": "stream",
     "text": [
      "Epoch 25 ▶ Train LL: 0.7864 / Val LL: 0.0848 | Train Acc: 0.7363 / Val Acc: 0.9722\n"
     ]
    },
    {
     "name": "stderr",
     "output_type": "stream",
     "text": [
      "Train: 100%|██████████| 786/786 [02:11<00:00,  6.00it/s]\n",
      "Valid: 100%|██████████| 197/197 [00:11<00:00, 16.48it/s]\n"
     ]
    },
    {
     "name": "stdout",
     "output_type": "stream",
     "text": [
      "Epoch 26 ▶ Train LL: 0.7783 / Val LL: 0.0914 | Train Acc: 0.7384 / Val Acc: 0.9715\n"
     ]
    },
    {
     "name": "stderr",
     "output_type": "stream",
     "text": [
      "Train: 100%|██████████| 786/786 [02:10<00:00,  6.02it/s]\n",
      "Valid: 100%|██████████| 197/197 [00:11<00:00, 16.59it/s]\n"
     ]
    },
    {
     "name": "stdout",
     "output_type": "stream",
     "text": [
      "Epoch 27 ▶ Train LL: 0.8769 / Val LL: 0.0953 | Train Acc: 0.7113 / Val Acc: 0.9698\n"
     ]
    },
    {
     "name": "stderr",
     "output_type": "stream",
     "text": [
      "Train: 100%|██████████| 786/786 [02:11<00:00,  5.97it/s]\n",
      "Valid: 100%|██████████| 197/197 [00:11<00:00, 16.75it/s]\n"
     ]
    },
    {
     "name": "stdout",
     "output_type": "stream",
     "text": [
      "Epoch 28 ▶ Train LL: 0.8261 / Val LL: 0.0935 | Train Acc: 0.7238 / Val Acc: 0.9712\n"
     ]
    },
    {
     "name": "stderr",
     "output_type": "stream",
     "text": [
      "Train: 100%|██████████| 786/786 [02:10<00:00,  6.03it/s]\n",
      "Valid: 100%|██████████| 197/197 [00:11<00:00, 16.62it/s]\n"
     ]
    },
    {
     "name": "stdout",
     "output_type": "stream",
     "text": [
      "Epoch 29 ▶ Train LL: 0.8013 / Val LL: 0.0988 | Train Acc: 0.7237 / Val Acc: 0.9736\n"
     ]
    },
    {
     "name": "stderr",
     "output_type": "stream",
     "text": [
      "Train: 100%|██████████| 786/786 [02:11<00:00,  6.00it/s]\n",
      "Valid: 100%|██████████| 197/197 [00:12<00:00, 15.87it/s]\n"
     ]
    },
    {
     "name": "stdout",
     "output_type": "stream",
     "text": [
      "Epoch 30 ▶ Train LL: 0.7837 / Val LL: 0.0764 | Train Acc: 0.7303 / Val Acc: 0.9750\n"
     ]
    },
    {
     "name": "stderr",
     "output_type": "stream",
     "text": [
      "HTTP Error 429 thrown while requesting HEAD https://huggingface.co/timm/convnext_base.fb_in22k/resolve/main/model.safetensors\n",
      "Retrying in 1s [Retry 1/5].\n",
      "HTTP Error 429 thrown while requesting HEAD https://huggingface.co/timm/convnext_base.fb_in22k/resolve/main/model.safetensors\n",
      "Retrying in 2s [Retry 2/5].\n",
      "HTTP Error 429 thrown while requesting HEAD https://huggingface.co/timm/convnext_base.fb_in22k/resolve/main/model.safetensors\n",
      "Retrying in 4s [Retry 3/5].\n",
      "HTTP Error 429 thrown while requesting HEAD https://huggingface.co/timm/convnext_base.fb_in22k/resolve/main/model.safetensors\n",
      "Retrying in 8s [Retry 4/5].\n",
      "HTTP Error 429 thrown while requesting HEAD https://huggingface.co/timm/convnext_base.fb_in22k/resolve/main/model.safetensors\n",
      "Retrying in 8s [Retry 5/5].\n",
      "HTTP Error 429 thrown while requesting HEAD https://huggingface.co/timm/convnext_base.fb_in22k/resolve/main/model.safetensors\n"
     ]
    },
    {
     "name": "stdout",
     "output_type": "stream",
     "text": [
      "[FOLD 3] validation logloss: 0.06928\n",
      "🏃 View run fold3 at: https://6m9uma7tvgsttm-5000.proxy.runpod.net/#/experiments/2/runs/abb8c3bfb47f4bd4b7ee63363db7a25e\n",
      "🧪 View experiment at: https://6m9uma7tvgsttm-5000.proxy.runpod.net/#/experiments/2\n",
      "\n",
      "[FOLD 4] training started.\n",
      "\n",
      "==================================================\n",
      "Training Fold 4\n",
      "\n",
      "==================================================\n"
     ]
    },
    {
     "name": "stderr",
     "output_type": "stream",
     "text": [
      "Train: 100%|██████████| 786/786 [02:10<00:00,  6.03it/s]\n",
      "Valid: 100%|██████████| 197/197 [00:11<00:00, 16.59it/s]\n"
     ]
    },
    {
     "name": "stdout",
     "output_type": "stream",
     "text": [
      "Epoch 1 ▶ Train LL: 3.9157 / Val LL: 0.7340 | Train Acc: 0.3256 / Val Acc: 0.8936\n"
     ]
    },
    {
     "name": "stderr",
     "output_type": "stream",
     "text": [
      "Train: 100%|██████████| 786/786 [02:11<00:00,  5.99it/s]\n",
      "Valid: 100%|██████████| 197/197 [00:13<00:00, 14.68it/s]\n"
     ]
    },
    {
     "name": "stdout",
     "output_type": "stream",
     "text": [
      "Epoch 2 ▶ Train LL: 1.7385 / Val LL: 0.2486 | Train Acc: 0.6783 / Val Acc: 0.9426\n"
     ]
    },
    {
     "name": "stderr",
     "output_type": "stream",
     "text": [
      "Train: 100%|██████████| 786/786 [02:10<00:00,  6.01it/s]\n",
      "Valid: 100%|██████████| 197/197 [00:11<00:00, 16.50it/s]\n"
     ]
    },
    {
     "name": "stdout",
     "output_type": "stream",
     "text": [
      "Epoch 3 ▶ Train LL: 1.3672 / Val LL: 0.1613 | Train Acc: 0.7029 / Val Acc: 0.9497\n"
     ]
    },
    {
     "name": "stderr",
     "output_type": "stream",
     "text": [
      "Train: 100%|██████████| 786/786 [02:11<00:00,  5.99it/s]\n",
      "Valid: 100%|██████████| 197/197 [00:11<00:00, 16.46it/s]\n"
     ]
    },
    {
     "name": "stdout",
     "output_type": "stream",
     "text": [
      "Epoch 4 ▶ Train LL: 1.2134 / Val LL: 0.1358 | Train Acc: 0.7035 / Val Acc: 0.9588\n"
     ]
    },
    {
     "name": "stderr",
     "output_type": "stream",
     "text": [
      "Train: 100%|██████████| 786/786 [02:10<00:00,  6.02it/s]\n",
      "Valid: 100%|██████████| 197/197 [00:11<00:00, 16.65it/s]\n"
     ]
    },
    {
     "name": "stdout",
     "output_type": "stream",
     "text": [
      "Epoch 5 ▶ Train LL: 1.0161 / Val LL: 0.1186 | Train Acc: 0.7333 / Val Acc: 0.9586\n"
     ]
    },
    {
     "name": "stderr",
     "output_type": "stream",
     "text": [
      "Train: 100%|██████████| 786/786 [02:11<00:00,  6.00it/s]\n",
      "Valid: 100%|██████████| 197/197 [00:12<00:00, 15.41it/s]\n"
     ]
    },
    {
     "name": "stdout",
     "output_type": "stream",
     "text": [
      "Epoch 6 ▶ Train LL: 0.9867 / Val LL: 0.1038 | Train Acc: 0.7155 / Val Acc: 0.9672\n"
     ]
    },
    {
     "name": "stderr",
     "output_type": "stream",
     "text": [
      "Train: 100%|██████████| 786/786 [02:10<00:00,  6.01it/s]\n",
      "Valid: 100%|██████████| 197/197 [00:11<00:00, 16.68it/s]\n"
     ]
    },
    {
     "name": "stdout",
     "output_type": "stream",
     "text": [
      "Epoch 7 ▶ Train LL: 0.9403 / Val LL: 0.0993 | Train Acc: 0.7143 / Val Acc: 0.9661\n"
     ]
    },
    {
     "name": "stderr",
     "output_type": "stream",
     "text": [
      "Train: 100%|██████████| 786/786 [02:10<00:00,  6.01it/s]\n",
      "Valid: 100%|██████████| 197/197 [00:12<00:00, 16.38it/s]\n"
     ]
    },
    {
     "name": "stdout",
     "output_type": "stream",
     "text": [
      "Epoch 8 ▶ Train LL: 0.9519 / Val LL: 0.0864 | Train Acc: 0.7131 / Val Acc: 0.9702\n"
     ]
    },
    {
     "name": "stderr",
     "output_type": "stream",
     "text": [
      "Train: 100%|██████████| 786/786 [02:10<00:00,  6.02it/s]\n",
      "Valid: 100%|██████████| 197/197 [00:12<00:00, 16.37it/s]\n"
     ]
    },
    {
     "name": "stdout",
     "output_type": "stream",
     "text": [
      "Epoch 9 ▶ Train LL: 0.8726 / Val LL: 0.0789 | Train Acc: 0.7187 / Val Acc: 0.9741\n"
     ]
    },
    {
     "name": "stderr",
     "output_type": "stream",
     "text": [
      "Train: 100%|██████████| 786/786 [02:10<00:00,  6.01it/s]\n",
      "Valid: 100%|██████████| 197/197 [00:11<00:00, 16.62it/s]\n"
     ]
    },
    {
     "name": "stdout",
     "output_type": "stream",
     "text": [
      "Epoch 10 ▶ Train LL: 0.8566 / Val LL: 0.0716 | Train Acc: 0.7211 / Val Acc: 0.9758\n"
     ]
    },
    {
     "name": "stderr",
     "output_type": "stream",
     "text": [
      "Train: 100%|██████████| 786/786 [02:10<00:00,  6.01it/s]\n",
      "Valid: 100%|██████████| 197/197 [00:13<00:00, 14.64it/s]\n"
     ]
    },
    {
     "name": "stdout",
     "output_type": "stream",
     "text": [
      "Epoch 11 ▶ Train LL: 0.7801 / Val LL: 0.0685 | Train Acc: 0.7391 / Val Acc: 0.9758\n"
     ]
    },
    {
     "name": "stderr",
     "output_type": "stream",
     "text": [
      "Train: 100%|██████████| 786/786 [02:10<00:00,  6.01it/s]\n",
      "Valid: 100%|██████████| 197/197 [00:11<00:00, 16.61it/s]\n"
     ]
    },
    {
     "name": "stdout",
     "output_type": "stream",
     "text": [
      "Epoch 12 ▶ Train LL: 0.7834 / Val LL: 0.0660 | Train Acc: 0.7272 / Val Acc: 0.9785\n"
     ]
    },
    {
     "name": "stderr",
     "output_type": "stream",
     "text": [
      "Train: 100%|██████████| 786/786 [02:10<00:00,  6.01it/s]\n",
      "Valid: 100%|██████████| 197/197 [00:11<00:00, 16.68it/s]\n"
     ]
    },
    {
     "name": "stdout",
     "output_type": "stream",
     "text": [
      "Epoch 13 ▶ Train LL: 0.7806 / Val LL: 0.0626 | Train Acc: 0.7298 / Val Acc: 0.9793\n"
     ]
    },
    {
     "name": "stderr",
     "output_type": "stream",
     "text": [
      "Train: 100%|██████████| 786/786 [02:10<00:00,  6.01it/s]\n",
      "Valid: 100%|██████████| 197/197 [00:11<00:00, 16.50it/s]\n"
     ]
    },
    {
     "name": "stdout",
     "output_type": "stream",
     "text": [
      "Epoch 14 ▶ Train LL: 0.7797 / Val LL: 0.0617 | Train Acc: 0.7215 / Val Acc: 0.9806\n"
     ]
    },
    {
     "name": "stderr",
     "output_type": "stream",
     "text": [
      "Train: 100%|██████████| 786/786 [02:11<00:00,  6.00it/s]\n",
      "Valid: 100%|██████████| 197/197 [00:11<00:00, 16.51it/s]\n"
     ]
    },
    {
     "name": "stdout",
     "output_type": "stream",
     "text": [
      "Epoch 15 ▶ Train LL: 0.7442 / Val LL: 0.0613 | Train Acc: 0.7368 / Val Acc: 0.9814\n"
     ]
    },
    {
     "name": "stderr",
     "output_type": "stream",
     "text": [
      "Train: 100%|██████████| 786/786 [02:10<00:00,  6.02it/s]\n",
      "Valid: 100%|██████████| 197/197 [00:12<00:00, 15.48it/s]\n"
     ]
    },
    {
     "name": "stdout",
     "output_type": "stream",
     "text": [
      "Epoch 16 ▶ Train LL: 0.7645 / Val LL: 0.0614 | Train Acc: 0.7317 / Val Acc: 0.9814\n"
     ]
    },
    {
     "name": "stderr",
     "output_type": "stream",
     "text": [
      "Train: 100%|██████████| 786/786 [02:10<00:00,  6.02it/s]\n",
      "Valid: 100%|██████████| 197/197 [00:11<00:00, 16.66it/s]\n"
     ]
    },
    {
     "name": "stdout",
     "output_type": "stream",
     "text": [
      "Epoch 17 ▶ Train LL: 0.7810 / Val LL: 0.0604 | Train Acc: 0.7250 / Val Acc: 0.9803\n"
     ]
    },
    {
     "name": "stderr",
     "output_type": "stream",
     "text": [
      "Train: 100%|██████████| 786/786 [02:10<00:00,  6.02it/s]\n",
      "Valid: 100%|██████████| 197/197 [00:11<00:00, 16.62it/s]\n"
     ]
    },
    {
     "name": "stdout",
     "output_type": "stream",
     "text": [
      "Epoch 18 ▶ Train LL: 0.7633 / Val LL: 0.0609 | Train Acc: 0.7288 / Val Acc: 0.9807\n"
     ]
    },
    {
     "name": "stderr",
     "output_type": "stream",
     "text": [
      "Train: 100%|██████████| 786/786 [02:10<00:00,  6.00it/s]\n",
      "Valid: 100%|██████████| 197/197 [00:12<00:00, 16.06it/s]\n"
     ]
    },
    {
     "name": "stdout",
     "output_type": "stream",
     "text": [
      "Epoch 19 ▶ Train LL: 0.7762 / Val LL: 0.0608 | Train Acc: 0.7194 / Val Acc: 0.9790\n"
     ]
    },
    {
     "name": "stderr",
     "output_type": "stream",
     "text": [
      "Train: 100%|██████████| 786/786 [02:10<00:00,  6.02it/s]\n",
      "Valid: 100%|██████████| 197/197 [00:11<00:00, 16.43it/s]\n"
     ]
    },
    {
     "name": "stdout",
     "output_type": "stream",
     "text": [
      "Epoch 20 ▶ Train LL: 0.7548 / Val LL: 0.0602 | Train Acc: 0.7310 / Val Acc: 0.9787\n"
     ]
    },
    {
     "name": "stderr",
     "output_type": "stream",
     "text": [
      "Train: 100%|██████████| 786/786 [02:10<00:00,  6.02it/s]\n",
      "Valid: 100%|██████████| 197/197 [00:11<00:00, 16.61it/s]\n"
     ]
    },
    {
     "name": "stdout",
     "output_type": "stream",
     "text": [
      "Epoch 21 ▶ Train LL: 0.7677 / Val LL: 0.0627 | Train Acc: 0.7230 / Val Acc: 0.9795\n"
     ]
    },
    {
     "name": "stderr",
     "output_type": "stream",
     "text": [
      "Train: 100%|██████████| 786/786 [02:11<00:00,  5.97it/s]\n",
      "Valid: 100%|██████████| 197/197 [00:11<00:00, 16.56it/s]\n"
     ]
    },
    {
     "name": "stdout",
     "output_type": "stream",
     "text": [
      "Epoch 22 ▶ Train LL: 0.7805 / Val LL: 0.0628 | Train Acc: 0.7249 / Val Acc: 0.9801\n"
     ]
    },
    {
     "name": "stderr",
     "output_type": "stream",
     "text": [
      "Train: 100%|██████████| 786/786 [02:10<00:00,  6.02it/s]\n",
      "Valid: 100%|██████████| 197/197 [00:11<00:00, 16.43it/s]\n"
     ]
    },
    {
     "name": "stdout",
     "output_type": "stream",
     "text": [
      "Epoch 23 ▶ Train LL: 0.7975 / Val LL: 0.0703 | Train Acc: 0.7351 / Val Acc: 0.9763\n"
     ]
    },
    {
     "name": "stderr",
     "output_type": "stream",
     "text": [
      "Train: 100%|██████████| 786/786 [02:11<00:00,  5.99it/s]\n",
      "Valid: 100%|██████████| 197/197 [00:12<00:00, 16.41it/s]\n"
     ]
    },
    {
     "name": "stdout",
     "output_type": "stream",
     "text": [
      "Epoch 24 ▶ Train LL: 0.7751 / Val LL: 0.0755 | Train Acc: 0.7290 / Val Acc: 0.9742\n"
     ]
    },
    {
     "name": "stderr",
     "output_type": "stream",
     "text": [
      "Train: 100%|██████████| 786/786 [02:10<00:00,  6.00it/s]\n",
      "Valid: 100%|██████████| 197/197 [00:11<00:00, 16.63it/s]\n"
     ]
    },
    {
     "name": "stdout",
     "output_type": "stream",
     "text": [
      "Epoch 25 ▶ Train LL: 0.7717 / Val LL: 0.0890 | Train Acc: 0.7400 / Val Acc: 0.9712\n"
     ]
    },
    {
     "name": "stderr",
     "output_type": "stream",
     "text": [
      "Train: 100%|██████████| 786/786 [02:11<00:00,  5.96it/s]\n",
      "Valid: 100%|██████████| 197/197 [00:11<00:00, 16.44it/s]\n"
     ]
    },
    {
     "name": "stdout",
     "output_type": "stream",
     "text": [
      "Epoch 26 ▶ Train LL: 0.8652 / Val LL: 0.0869 | Train Acc: 0.7079 / Val Acc: 0.9723\n"
     ]
    },
    {
     "name": "stderr",
     "output_type": "stream",
     "text": [
      "Train: 100%|██████████| 786/786 [02:10<00:00,  6.03it/s]\n",
      "Valid: 100%|██████████| 197/197 [00:11<00:00, 16.66it/s]\n"
     ]
    },
    {
     "name": "stdout",
     "output_type": "stream",
     "text": [
      "Epoch 27 ▶ Train LL: 0.8320 / Val LL: 0.0732 | Train Acc: 0.7224 / Val Acc: 0.9753\n"
     ]
    },
    {
     "name": "stderr",
     "output_type": "stream",
     "text": [
      "Train: 100%|██████████| 786/786 [02:10<00:00,  6.01it/s]\n",
      "Valid: 100%|██████████| 197/197 [00:12<00:00, 16.21it/s]\n"
     ]
    },
    {
     "name": "stdout",
     "output_type": "stream",
     "text": [
      "Epoch 28 ▶ Train LL: 0.8153 / Val LL: 0.0857 | Train Acc: 0.7198 / Val Acc: 0.9749\n"
     ]
    },
    {
     "name": "stderr",
     "output_type": "stream",
     "text": [
      "Train: 100%|██████████| 786/786 [02:10<00:00,  6.01it/s]\n",
      "Valid: 100%|██████████| 197/197 [00:11<00:00, 16.47it/s]\n"
     ]
    },
    {
     "name": "stdout",
     "output_type": "stream",
     "text": [
      "Epoch 29 ▶ Train LL: 0.8214 / Val LL: 0.0764 | Train Acc: 0.7196 / Val Acc: 0.9757\n"
     ]
    },
    {
     "name": "stderr",
     "output_type": "stream",
     "text": [
      "Train: 100%|██████████| 786/786 [02:10<00:00,  6.03it/s]\n",
      "Valid: 100%|██████████| 197/197 [00:14<00:00, 13.16it/s]\n"
     ]
    },
    {
     "name": "stdout",
     "output_type": "stream",
     "text": [
      "Epoch 30 ▶ Train LL: 0.7768 / Val LL: 0.0726 | Train Acc: 0.7345 / Val Acc: 0.9771\n",
      "[FOLD 4] validation logloss: 0.06018\n",
      "🏃 View run fold4 at: https://6m9uma7tvgsttm-5000.proxy.runpod.net/#/experiments/2/runs/7bf3cd9b23814e01a4f0b15880989415\n",
      "🧪 View experiment at: https://6m9uma7tvgsttm-5000.proxy.runpod.net/#/experiments/2\n",
      "\n",
      "[FOLD 5] training started.\n",
      "\n",
      "==================================================\n",
      "Training Fold 5\n",
      "\n",
      "==================================================\n"
     ]
    },
    {
     "name": "stderr",
     "output_type": "stream",
     "text": [
      "Train: 100%|██████████| 786/786 [02:10<00:00,  6.01it/s]\n",
      "Valid: 100%|██████████| 197/197 [00:11<00:00, 16.42it/s]\n"
     ]
    },
    {
     "name": "stdout",
     "output_type": "stream",
     "text": [
      "Epoch 1 ▶ Train LL: 3.7363 / Val LL: 0.5706 | Train Acc: 0.3639 / Val Acc: 0.9018\n"
     ]
    },
    {
     "name": "stderr",
     "output_type": "stream",
     "text": [
      "Train: 100%|██████████| 786/786 [02:10<00:00,  6.02it/s]\n",
      "Valid: 100%|██████████| 197/197 [00:11<00:00, 16.62it/s]\n"
     ]
    },
    {
     "name": "stdout",
     "output_type": "stream",
     "text": [
      "Epoch 2 ▶ Train LL: 1.7752 / Val LL: 0.2499 | Train Acc: 0.6608 / Val Acc: 0.9362\n"
     ]
    },
    {
     "name": "stderr",
     "output_type": "stream",
     "text": [
      "Train: 100%|██████████| 786/786 [02:10<00:00,  6.04it/s]\n",
      "Valid: 100%|██████████| 197/197 [00:12<00:00, 15.62it/s]\n"
     ]
    },
    {
     "name": "stdout",
     "output_type": "stream",
     "text": [
      "Epoch 3 ▶ Train LL: 1.4051 / Val LL: 0.1661 | Train Acc: 0.6865 / Val Acc: 0.9510\n"
     ]
    },
    {
     "name": "stderr",
     "output_type": "stream",
     "text": [
      "Train: 100%|██████████| 786/786 [02:10<00:00,  6.02it/s]\n",
      "Valid: 100%|██████████| 197/197 [00:11<00:00, 16.51it/s]\n"
     ]
    },
    {
     "name": "stdout",
     "output_type": "stream",
     "text": [
      "Epoch 4 ▶ Train LL: 1.2098 / Val LL: 0.1298 | Train Acc: 0.6960 / Val Acc: 0.9586\n"
     ]
    },
    {
     "name": "stderr",
     "output_type": "stream",
     "text": [
      "Train: 100%|██████████| 786/786 [02:10<00:00,  6.01it/s]\n",
      "Valid: 100%|██████████| 197/197 [00:11<00:00, 16.44it/s]\n"
     ]
    },
    {
     "name": "stdout",
     "output_type": "stream",
     "text": [
      "Epoch 5 ▶ Train LL: 1.0629 / Val LL: 0.1199 | Train Acc: 0.7098 / Val Acc: 0.9629\n"
     ]
    },
    {
     "name": "stderr",
     "output_type": "stream",
     "text": [
      "Train: 100%|██████████| 786/786 [02:10<00:00,  6.01it/s]\n",
      "Valid: 100%|██████████| 197/197 [00:11<00:00, 16.45it/s]\n"
     ]
    },
    {
     "name": "stdout",
     "output_type": "stream",
     "text": [
      "Epoch 6 ▶ Train LL: 1.0243 / Val LL: 0.0941 | Train Acc: 0.7039 / Val Acc: 0.9696\n"
     ]
    },
    {
     "name": "stderr",
     "output_type": "stream",
     "text": [
      "Train: 100%|██████████| 786/786 [02:10<00:00,  6.01it/s]\n",
      "Valid: 100%|██████████| 197/197 [00:12<00:00, 16.33it/s]\n"
     ]
    },
    {
     "name": "stdout",
     "output_type": "stream",
     "text": [
      "Epoch 7 ▶ Train LL: 0.9275 / Val LL: 0.0940 | Train Acc: 0.7222 / Val Acc: 0.9696\n"
     ]
    },
    {
     "name": "stderr",
     "output_type": "stream",
     "text": [
      "Train: 100%|██████████| 786/786 [02:10<00:00,  6.01it/s]\n",
      "Valid: 100%|██████████| 197/197 [00:12<00:00, 16.19it/s]\n"
     ]
    },
    {
     "name": "stdout",
     "output_type": "stream",
     "text": [
      "Epoch 8 ▶ Train LL: 0.8683 / Val LL: 0.0824 | Train Acc: 0.7327 / Val Acc: 0.9717\n"
     ]
    },
    {
     "name": "stderr",
     "output_type": "stream",
     "text": [
      "Train: 100%|██████████| 786/786 [02:11<00:00,  5.97it/s]\n",
      "Valid: 100%|██████████| 197/197 [00:11<00:00, 16.56it/s]\n"
     ]
    },
    {
     "name": "stdout",
     "output_type": "stream",
     "text": [
      "Epoch 9 ▶ Train LL: 0.8553 / Val LL: 0.0782 | Train Acc: 0.7203 / Val Acc: 0.9731\n"
     ]
    },
    {
     "name": "stderr",
     "output_type": "stream",
     "text": [
      "Train: 100%|██████████| 786/786 [02:10<00:00,  6.03it/s]\n",
      "Valid: 100%|██████████| 197/197 [00:12<00:00, 16.37it/s]\n"
     ]
    },
    {
     "name": "stdout",
     "output_type": "stream",
     "text": [
      "Epoch 10 ▶ Train LL: 0.8598 / Val LL: 0.0701 | Train Acc: 0.7151 / Val Acc: 0.9734\n"
     ]
    },
    {
     "name": "stderr",
     "output_type": "stream",
     "text": [
      "Train: 100%|██████████| 786/786 [02:11<00:00,  6.00it/s]\n",
      "Valid: 100%|██████████| 197/197 [00:12<00:00, 15.88it/s]\n"
     ]
    },
    {
     "name": "stdout",
     "output_type": "stream",
     "text": [
      "Epoch 11 ▶ Train LL: 0.8142 / Val LL: 0.0667 | Train Acc: 0.7166 / Val Acc: 0.9752\n"
     ]
    },
    {
     "name": "stderr",
     "output_type": "stream",
     "text": [
      "Train: 100%|██████████| 786/786 [02:10<00:00,  6.04it/s]\n",
      "Valid: 100%|██████████| 197/197 [00:11<00:00, 16.51it/s]\n"
     ]
    },
    {
     "name": "stdout",
     "output_type": "stream",
     "text": [
      "Epoch 12 ▶ Train LL: 0.8145 / Val LL: 0.0651 | Train Acc: 0.7180 / Val Acc: 0.9763\n"
     ]
    },
    {
     "name": "stderr",
     "output_type": "stream",
     "text": [
      "Train: 100%|██████████| 786/786 [02:10<00:00,  6.02it/s]\n",
      "Valid: 100%|██████████| 197/197 [00:11<00:00, 16.56it/s]\n"
     ]
    },
    {
     "name": "stdout",
     "output_type": "stream",
     "text": [
      "Epoch 13 ▶ Train LL: 0.7445 / Val LL: 0.0614 | Train Acc: 0.7353 / Val Acc: 0.9768\n"
     ]
    },
    {
     "name": "stderr",
     "output_type": "stream",
     "text": [
      "Train: 100%|██████████| 786/786 [02:11<00:00,  5.96it/s]\n",
      "Valid: 100%|██████████| 197/197 [00:12<00:00, 16.39it/s]\n"
     ]
    },
    {
     "name": "stdout",
     "output_type": "stream",
     "text": [
      "Epoch 14 ▶ Train LL: 0.7582 / Val LL: 0.0605 | Train Acc: 0.7269 / Val Acc: 0.9779\n"
     ]
    },
    {
     "name": "stderr",
     "output_type": "stream",
     "text": [
      "Train: 100%|██████████| 786/786 [02:11<00:00,  6.00it/s]\n",
      "Valid: 100%|██████████| 197/197 [00:11<00:00, 16.51it/s]\n"
     ]
    },
    {
     "name": "stdout",
     "output_type": "stream",
     "text": [
      "Epoch 15 ▶ Train LL: 0.7446 / Val LL: 0.0612 | Train Acc: 0.7378 / Val Acc: 0.9776\n"
     ]
    },
    {
     "name": "stderr",
     "output_type": "stream",
     "text": [
      "Train: 100%|██████████| 786/786 [02:10<00:00,  6.00it/s]\n",
      "Valid: 100%|██████████| 197/197 [00:11<00:00, 16.53it/s]\n"
     ]
    },
    {
     "name": "stdout",
     "output_type": "stream",
     "text": [
      "Epoch 16 ▶ Train LL: 0.7619 / Val LL: 0.0605 | Train Acc: 0.7291 / Val Acc: 0.9768\n"
     ]
    },
    {
     "name": "stderr",
     "output_type": "stream",
     "text": [
      "Train: 100%|██████████| 786/786 [02:10<00:00,  6.01it/s]\n",
      "Valid: 100%|██████████| 197/197 [00:11<00:00, 16.42it/s]\n"
     ]
    },
    {
     "name": "stdout",
     "output_type": "stream",
     "text": [
      "Epoch 17 ▶ Train LL: 0.7661 / Val LL: 0.0611 | Train Acc: 0.7332 / Val Acc: 0.9776\n"
     ]
    },
    {
     "name": "stderr",
     "output_type": "stream",
     "text": [
      "Train: 100%|██████████| 786/786 [02:11<00:00,  5.98it/s]\n",
      "Valid: 100%|██████████| 197/197 [00:11<00:00, 16.54it/s]\n"
     ]
    },
    {
     "name": "stdout",
     "output_type": "stream",
     "text": [
      "Epoch 18 ▶ Train LL: 0.7677 / Val LL: 0.0603 | Train Acc: 0.7306 / Val Acc: 0.9772\n"
     ]
    },
    {
     "name": "stderr",
     "output_type": "stream",
     "text": [
      "Train: 100%|██████████| 786/786 [02:10<00:00,  6.01it/s]\n",
      "Valid: 100%|██████████| 197/197 [00:11<00:00, 16.77it/s]\n"
     ]
    },
    {
     "name": "stdout",
     "output_type": "stream",
     "text": [
      "Epoch 19 ▶ Train LL: 0.7796 / Val LL: 0.0605 | Train Acc: 0.7213 / Val Acc: 0.9771\n"
     ]
    },
    {
     "name": "stderr",
     "output_type": "stream",
     "text": [
      "Train: 100%|██████████| 786/786 [02:10<00:00,  6.00it/s]\n",
      "Valid: 100%|██████████| 197/197 [00:11<00:00, 16.57it/s]\n"
     ]
    },
    {
     "name": "stdout",
     "output_type": "stream",
     "text": [
      "Epoch 20 ▶ Train LL: 0.7340 / Val LL: 0.0619 | Train Acc: 0.7304 / Val Acc: 0.9750\n"
     ]
    },
    {
     "name": "stderr",
     "output_type": "stream",
     "text": [
      "Train: 100%|██████████| 786/786 [02:10<00:00,  6.03it/s]\n",
      "Valid: 100%|██████████| 197/197 [00:11<00:00, 16.54it/s]\n"
     ]
    },
    {
     "name": "stdout",
     "output_type": "stream",
     "text": [
      "Epoch 21 ▶ Train LL: 0.7487 / Val LL: 0.0636 | Train Acc: 0.7312 / Val Acc: 0.9768\n"
     ]
    },
    {
     "name": "stderr",
     "output_type": "stream",
     "text": [
      "Train: 100%|██████████| 786/786 [02:11<00:00,  6.00it/s]\n",
      "Valid: 100%|██████████| 197/197 [00:12<00:00, 16.40it/s]\n"
     ]
    },
    {
     "name": "stdout",
     "output_type": "stream",
     "text": [
      "Epoch 22 ▶ Train LL: 0.7735 / Val LL: 0.0642 | Train Acc: 0.7269 / Val Acc: 0.9774\n"
     ]
    },
    {
     "name": "stderr",
     "output_type": "stream",
     "text": [
      "Train: 100%|██████████| 786/786 [02:10<00:00,  6.02it/s]\n",
      "Valid: 100%|██████████| 197/197 [00:11<00:00, 16.72it/s]\n"
     ]
    },
    {
     "name": "stdout",
     "output_type": "stream",
     "text": [
      "Epoch 23 ▶ Train LL: 0.7911 / Val LL: 0.0674 | Train Acc: 0.7158 / Val Acc: 0.9763\n"
     ]
    },
    {
     "name": "stderr",
     "output_type": "stream",
     "text": [
      "Train: 100%|██████████| 786/786 [02:10<00:00,  6.03it/s]\n",
      "Valid: 100%|██████████| 197/197 [00:12<00:00, 16.39it/s]\n"
     ]
    },
    {
     "name": "stdout",
     "output_type": "stream",
     "text": [
      "Epoch 24 ▶ Train LL: 0.8052 / Val LL: 0.0809 | Train Acc: 0.7238 / Val Acc: 0.9736\n"
     ]
    },
    {
     "name": "stderr",
     "output_type": "stream",
     "text": [
      "Train: 100%|██████████| 786/786 [02:10<00:00,  6.01it/s]\n",
      "Valid: 100%|██████████| 197/197 [00:13<00:00, 14.31it/s]\n"
     ]
    },
    {
     "name": "stdout",
     "output_type": "stream",
     "text": [
      "Epoch 25 ▶ Train LL: 0.8142 / Val LL: 0.0740 | Train Acc: 0.7170 / Val Acc: 0.9760\n"
     ]
    },
    {
     "name": "stderr",
     "output_type": "stream",
     "text": [
      "Train: 100%|██████████| 786/786 [02:10<00:00,  6.00it/s]\n",
      "Valid: 100%|██████████| 197/197 [00:11<00:00, 16.53it/s]\n"
     ]
    },
    {
     "name": "stdout",
     "output_type": "stream",
     "text": [
      "Epoch 26 ▶ Train LL: 0.8149 / Val LL: 0.0798 | Train Acc: 0.7270 / Val Acc: 0.9733\n"
     ]
    },
    {
     "name": "stderr",
     "output_type": "stream",
     "text": [
      "Train: 100%|██████████| 786/786 [02:10<00:00,  6.01it/s]\n",
      "Valid: 100%|██████████| 197/197 [00:11<00:00, 16.50it/s]\n"
     ]
    },
    {
     "name": "stdout",
     "output_type": "stream",
     "text": [
      "Epoch 27 ▶ Train LL: 0.8646 / Val LL: 0.0849 | Train Acc: 0.7125 / Val Acc: 0.9742\n"
     ]
    },
    {
     "name": "stderr",
     "output_type": "stream",
     "text": [
      "Train: 100%|██████████| 786/786 [02:10<00:00,  6.01it/s]\n",
      "Valid: 100%|██████████| 197/197 [00:11<00:00, 16.50it/s]\n"
     ]
    },
    {
     "name": "stdout",
     "output_type": "stream",
     "text": [
      "Epoch 28 ▶ Train LL: 0.8200 / Val LL: 0.0822 | Train Acc: 0.7207 / Val Acc: 0.9742\n"
     ]
    },
    {
     "name": "stderr",
     "output_type": "stream",
     "text": [
      "Train: 100%|██████████| 786/786 [02:10<00:00,  6.01it/s]\n",
      "Valid: 100%|██████████| 197/197 [00:12<00:00, 16.40it/s]\n"
     ]
    },
    {
     "name": "stdout",
     "output_type": "stream",
     "text": [
      "Epoch 29 ▶ Train LL: 0.8195 / Val LL: 0.0777 | Train Acc: 0.7220 / Val Acc: 0.9752\n"
     ]
    },
    {
     "name": "stderr",
     "output_type": "stream",
     "text": [
      "Train: 100%|██████████| 786/786 [02:10<00:00,  6.02it/s]\n",
      "Valid: 100%|██████████| 197/197 [00:11<00:00, 16.48it/s]\n"
     ]
    },
    {
     "name": "stdout",
     "output_type": "stream",
     "text": [
      "Epoch 30 ▶ Train LL: 0.7787 / Val LL: 0.0745 | Train Acc: 0.7325 / Val Acc: 0.9758\n",
      "[FOLD 5] validation logloss: 0.06034\n",
      "🏃 View run fold5 at: https://6m9uma7tvgsttm-5000.proxy.runpod.net/#/experiments/2/runs/e1b71f25b8ec424393995589e32f4f6e\n",
      "🧪 View experiment at: https://6m9uma7tvgsttm-5000.proxy.runpod.net/#/experiments/2\n",
      "Fold weights: [0.19991306922666785, 0.1998462790902399, 0.19895187176208082, 0.2006598992845391, 0.20062888063647247]\n"
     ]
    }
   ],
   "source": [
    "n_folds = exp.get('n_folds', 5)\n",
    "skf = StratifiedKFold(n_splits=n_folds, shuffle=True, random_state=exp['seed'])\n",
    "\n",
    "fold_models = []\n",
    "fold_scores = []\n",
    "\n",
    "for fold_idx, (train_idx, val_idx) in enumerate(skf.split(train_df, train_df['label'])):\n",
    "    with mlflow.start_run(run_name=f\"fold{fold_idx+1}\", nested=True):\n",
    "        print(f\"\\n[FOLD {fold_idx+1}] training started.\")\n",
    "        mlflow.log_param(\"fold_idx\", fold_idx)\n",
    "        # (파라미터 로깅, 데이터 나누기 등)\n",
    "        train_data = train_df.iloc[train_idx].reset_index(drop=True)\n",
    "        val_data = train_df.iloc[val_idx].reset_index(drop=True)\n",
    "\n",
    "        model, val_loss = train_fold(\n",
    "            fold_idx, train_data, val_data,\n",
    "            hp, exp, device,\n",
    "            num_classes, run_name\n",
    "        )\n",
    "        mlflow.log_metric(\"val_logloss\", val_loss)\n",
    "        print(f\"[FOLD {fold_idx+1}] validation logloss: {val_loss:.5f}\")\n",
    "        torch.save(model.state_dict(), f\"best_model_fold_{fold_idx}.pth\")\n",
    "        mlflow.log_artifact(f\"best_model_fold_{fold_idx}.pth\")\n",
    "\n",
    "        fold_models.append(model)\n",
    "        fold_scores.append(1.0 / (1.0 + val_loss))\n",
    "\n",
    "    gc.collect()\n",
    "    torch.cuda.empty_cache()\n",
    "\n",
    "# [Fold별 가중치 계산 및 로깅]\n",
    "total_score = sum(fold_scores)\n",
    "fold_weights = [score / total_score for score in fold_scores]\n",
    "mlflow.log_params({'n_folds': n_folds, 'fold_weights': fold_weights})\n",
    "print(f\"Fold weights: {fold_weights}\")"
   ]
  },
  {
   "cell_type": "code",
   "execution_count": null,
   "id": "cf5a237c-87a3-40ec-a5de-fd6f3279d24b",
   "metadata": {},
   "outputs": [
    {
     "name": "stdout",
     "output_type": "stream",
     "text": [
      "Test inference started...\n",
      "\n",
      "Performing inference with TTA (4 augmentations)...\n",
      "Processing fold 1/5...\n"
     ]
    },
    {
     "name": "stderr",
     "output_type": "stream",
     "text": [
      "Fold 1 TTA: 100%|██████████| 259/259 [03:14<00:00,  1.33it/s]\n"
     ]
    },
    {
     "name": "stdout",
     "output_type": "stream",
     "text": [
      "Processing fold 2/5...\n"
     ]
    },
    {
     "name": "stderr",
     "output_type": "stream",
     "text": [
      "Fold 2 TTA: 100%|██████████| 259/259 [03:14<00:00,  1.33it/s]\n"
     ]
    },
    {
     "name": "stdout",
     "output_type": "stream",
     "text": [
      "Processing fold 3/5...\n"
     ]
    },
    {
     "name": "stderr",
     "output_type": "stream",
     "text": [
      "Fold 3 TTA: 100%|██████████| 259/259 [03:14<00:00,  1.33it/s]\n"
     ]
    },
    {
     "name": "stdout",
     "output_type": "stream",
     "text": [
      "Processing fold 4/5...\n"
     ]
    },
    {
     "name": "stderr",
     "output_type": "stream",
     "text": [
      "Fold 4 TTA: 100%|██████████| 259/259 [03:14<00:00,  1.33it/s]\n"
     ]
    },
    {
     "name": "stdout",
     "output_type": "stream",
     "text": [
      "Processing fold 5/5...\n"
     ]
    },
    {
     "name": "stderr",
     "output_type": "stream",
     "text": [
      "Fold 5 TTA:  29%|██▊       | 74/259 [00:56<02:17,  1.34it/s]"
     ]
    }
   ],
   "source": [
    "import torch\n",
    "\n",
    "# [테스트셋 추론 및 결과 저장]\n",
    "print(\"Test inference started...\")\n",
    "\n",
    "\n",
    "resize_only = A.Compose([A.Resize(hp['img_size'], hp['img_size'])])\n",
    "\n",
    "# 테스트 데이터 로드 및 전처리\n",
    "test_df = pd.read_csv('./dataset/test.csv')\n",
    "test_df['img_path'] = './dataset/' + test_df['img_path']\n",
    "\n",
    "test_dataset = CustomImageDataset(test_df, transform=resize_only, is_test=True)\n",
    "test_loader = DataLoader(\n",
    "    test_dataset,\n",
    "    batch_size=hp['batch_size'], shuffle=False, num_workers=hp['cpu_count'], pin_memory=True\n",
    ")\n",
    "\n",
    "# TTA 변환 정의\n",
    "tta_transforms = get_tta_transforms()\n",
    "\n",
    "print(f\"\\nPerforming inference with TTA ({len(tta_transforms)+1} augmentations)...\")\n",
    "\n",
    "# 모든 fold 모델을 사용하여 TTA 예측\n",
    "all_fold_predictions = []\n",
    "\n",
    "for fold_idx, model in enumerate(fold_models):\n",
    "    print(f\"Processing fold {fold_idx + 1}/{n_folds}...\")\n",
    "    model.eval()\n",
    "    tta_model = TTAWrapper(model, tta_transforms, device)\n",
    "    fold_predictions = []\n",
    "    \n",
    "    with torch.no_grad():\n",
    "        for images in tqdm(test_loader, desc=f\"Fold {fold_idx + 1} TTA\"):\n",
    "            imgs_np = images.numpy()\n",
    "            mean_prob = tta_model.predict(imgs_np)\n",
    "            fold_predictions.append(mean_prob)\n",
    "            \n",
    "    # Fold 예측 결과 저장\n",
    "    fold_pred_np = torch.cat(fold_predictions).cpu().numpy()\n",
    "    all_fold_predictions.append(fold_pred_np)\n",
    "\n",
    "# Fold별 가중치를 적용한 최종 앙상블 예측\n",
    "print(\"\\nCombining fold predictions with weights...\")\n",
    "\n",
    "weighted_predictions = np.zeros_like(all_fold_predictions[0])\n",
    "for fold_pred, weight in zip(all_fold_predictions, fold_weights):\n",
    "    weighted_predictions += fold_pred * weight\n",
    "\n",
    "# 예측 결과를 DataFrame으로 변환\n",
    "sorted_class_names = sorted(class_to_idx.keys(), key=lambda k: class_to_idx[k])\n",
    "pred_df = pd.DataFrame(weighted_predictions, columns=sorted_class_names)"
   ]
  },
  {
   "cell_type": "code",
   "execution_count": null,
   "id": "c19404bc-031c-467d-a3e9-3d07061a4ec3",
   "metadata": {},
   "outputs": [],
   "source": [
    "# Submission 파일 생성\n",
    "submission = pd.read_csv('./dataset/sample_submission.csv', encoding='utf-8-sig')\n",
    "submission_class_columns = submission.columns[1:]\n",
    "\n",
    "# 누락된 클래스 컬럼은 0으로 추가\n",
    "for col in submission_class_columns:\n",
    "    if col not in pred_df.columns:\n",
    "        pred_df[col] = 0.0\n",
    "\n",
    "# 결과 업데이트\n",
    "submission[pred_df.columns] = pred_df.values\n",
    "\n",
    "# 최종 결과 저장\n",
    "submission.to_csv('submission.csv', index=False, encoding='utf-8-sig')\n",
    "\n",
    "submission.to_csv('submission.csv', index=False, encoding='utf-8-sig')\n",
    "mlflow.log_artifact('submission.csv')\n",
    "print(\"Submission file 'submission.csv' created and logged to MLflow.\")\n",
    "\n",
    "mlflow.log_artifact(\"config.yaml\")\n",
    "mlflow.log_artifact(\"models/\")\n",
    "mlflow.log_artifact(\"datasets/\")\n",
    "mlflow.log_artifact(\"train_utils/\")\n",
    "mlflow.log_artifact(\"transforms/\")\n",
    "mlflow.log_artifact(\"utils/\")\n",
    "mlflow.log_artifact(\"main.ipynb\")\n",
    "\n",
    "mlflow.end_run()"
   ]
  },
  {
   "cell_type": "code",
   "execution_count": null,
   "id": "8292ad7b-c273-42a4-8d1c-ee042796d407",
   "metadata": {},
   "outputs": [],
   "source": []
  }
 ],
 "metadata": {
  "kernelspec": {
   "display_name": "Python 3 (ipykernel)",
   "language": "python",
   "name": "python3"
  },
  "language_info": {
   "codemirror_mode": {
    "name": "ipython",
    "version": 3
   },
   "file_extension": ".py",
   "mimetype": "text/x-python",
   "name": "python",
   "nbconvert_exporter": "python",
   "pygments_lexer": "ipython3",
   "version": "3.11.11"
  }
 },
 "nbformat": 4,
 "nbformat_minor": 5
}
